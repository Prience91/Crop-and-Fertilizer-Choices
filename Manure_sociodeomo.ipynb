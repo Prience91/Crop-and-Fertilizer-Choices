{
 "cells": [
  {
   "cell_type": "markdown",
   "id": "f0ea0d39",
   "metadata": {},
   "source": [
    "### Dataset fetching and merging "
   ]
  },
  {
   "cell_type": "code",
   "execution_count": 2,
   "id": "c2fc4b07",
   "metadata": {},
   "outputs": [
    {
     "name": "stdout",
     "output_type": "stream",
     "text": [
      "<class 'pandas.core.frame.DataFrame'>\n",
      "RangeIndex: 118 entries, 0 to 117\n",
      "Data columns (total 9 columns):\n",
      " #   Column                     Non-Null Count  Dtype  \n",
      "---  ------                     --------------  -----  \n",
      " 0   Respondent's Name          118 non-null    object \n",
      " 1   Municipality               118 non-null    object \n",
      " 2   Ward                       116 non-null    float64\n",
      " 3   Sex                        117 non-null    object \n",
      " 4   Age                        115 non-null    float64\n",
      " 5   Number of Family members   115 non-null    float64\n",
      " 6   Educational Qualification  117 non-null    object \n",
      " 7   Primary Occupation         116 non-null    object \n",
      " 8   Caste                      117 non-null    object \n",
      "dtypes: float64(3), object(6)\n",
      "memory usage: 8.4+ KB\n"
     ]
    }
   ],
   "source": [
    "import pandas as pd\n",
    "File = pd.read_csv(\"Personal.csv\")\n",
    "Personal = pd.DataFrame(File)\n",
    "Personal.drop(columns = \"Unnamed: 0\", axis = 1, inplace = True)\n",
    "Personal.info()"
   ]
  },
  {
   "cell_type": "code",
   "execution_count": 3,
   "id": "b249a74c",
   "metadata": {},
   "outputs": [
    {
     "data": {
      "text/plain": [
       "Educational Qualification\n",
       "Unofficial Education    81\n",
       "Higher Secondary        26\n",
       "Lower Secondary          5\n",
       "Undergraduate            4\n",
       "Graduation               1\n",
       "Name: count, dtype: int64"
      ]
     },
     "execution_count": 3,
     "metadata": {},
     "output_type": "execute_result"
    }
   ],
   "source": [
    "Personal[\"Educational Qualification\"].value_counts()"
   ]
  },
  {
   "cell_type": "code",
   "execution_count": 4,
   "id": "f31eb106",
   "metadata": {},
   "outputs": [
    {
     "name": "stdout",
     "output_type": "stream",
     "text": [
      "<class 'pandas.core.frame.DataFrame'>\n",
      "RangeIndex: 118 entries, 0 to 117\n",
      "Data columns (total 4 columns):\n",
      " #   Column                     Non-Null Count  Dtype  \n",
      "---  ------                     --------------  -----  \n",
      " 0   Municipality               118 non-null    object \n",
      " 1   Sex                        117 non-null    object \n",
      " 2   Age                        115 non-null    float64\n",
      " 3   Educational Qualification  117 non-null    object \n",
      "dtypes: float64(1), object(3)\n",
      "memory usage: 3.8+ KB\n"
     ]
    }
   ],
   "source": [
    "Personal_SD = Personal[[\"Municipality\", \"Sex\", \"Age\", \"Educational Qualification\"]]\n",
    "Personal_SD.info()"
   ]
  },
  {
   "cell_type": "code",
   "execution_count": 5,
   "id": "efcf6add",
   "metadata": {},
   "outputs": [
    {
     "name": "stdout",
     "output_type": "stream",
     "text": [
      "0 Timestamp\n",
      "1 Form ID\n",
      "2 Respondent's Name\n",
      "3 Municipality/VDC\n",
      "4 Ward\n",
      "5 Sex\n",
      "6 Age\n",
      "7 Number of Family members\n",
      "8 Educational Qualification\n",
      "9 Primary Occupation\n",
      "10 Caste\n",
      "11 1. What sources of water does your household depend upon to fulfill irrigation needs?\n",
      "12 2. Do you utilize most of your water endowment in fulfilling irrigation needs?\n",
      "13 3. Is your household dependent on fossil fuel (diesel pump) or electrical energy for drawing water for fulfilling irrigation needs?\n",
      "14 4. If yes, please tick the sources of water that require energy to be conducted?\n",
      "15 5.  Do your sources provide sufficient water to specifically fulfill your irrigation needs?\n",
      "16 6.  If no, what factors are responsible for causing water stress for fulfilling irrigation needs.\n",
      "17 7. Have you observed drop in agriculture productivity during years of insufficient water availability?\n",
      "18 8. If yes, How has insufficiency of water availability affected agricultural productivity?\n",
      "19 9. What adaptation measures have you adapted to ensure crop productivity amid insufficiency of water availability?\n",
      "20 10.   Do you rely on forest and rangeland products (such as litter or traditional biomass) to supply input fertilizers for your farming plot?\n",
      "21 11.    Does such collected litter or traditional biomass fulfill your need of fertilizer ?\n",
      "22 12. Does litter and traditional biomass as agricultural inputs ensure optimum agricultural productivity of your farming plot?\n",
      "23 13.  Do you manage to collect sufficient amount of litter and traditional biomass that you require?\n",
      "24 14. If no, what factors have denied you from gathering sufficient amount of litter and traditional biomass?\n",
      "25 15.  Have you adopted adaptive measures to fulfill your agricultural input needs amid unavailability of sufficient forest-based litter and traditional biomass?\n",
      "26 16.  Is your farm plots close to the local forest or rangeland?\n",
      "27 17. Observed Positive Impact [Benefit from pollinators]\n",
      "28 17. IObserved Positive Impact [Preservation of soil integrity from erosion and loss]\n",
      "29 17.Observed Positive Impact [Improved soil fertility due to forest-based traditional biomass]\n",
      "30 17. Observed Positive Impact [Preservation of soil moisture of farms at all times]\n",
      "31 17. Observed Positive Impact [Others]\n",
      "32 17. Observed Negative Impact [Higher wildlife intrusion damaging crops]\n",
      "33 17. Observed Negative Impact [Crops become vulnerable to infestation by pests and insects]\n",
      "34 17. Observed Negative Impact [Farm lands become vulnerable to forest fire]\n",
      "35 17. Observed Negative Impact [Others]\n",
      "36 18. What practices have you implemented to limit or adapt to the discussed disservices generated by forests or rangelands on your farm plots?\n",
      "37 19.  Does wildlife intrude your farm plots and destroy crops?\n",
      "38 20. Please specify the kind of wildlife animals that usually intrude on your farm plots and destroy crops\n",
      "39 21. How much does wildlife cause loss to your crops in terms of estimated amount?\n",
      "40 22. What measures have you employed to avert intrusion by wildlife in your farm plots?\n",
      "41 23.  Which of the measures that you have applied have remained most successful in averting the wildlife intrusion problem?\n",
      "42 24.   Please enlist the species of crops that you grow in your field plots and classify whether it falls under local indigenous species or imported crops (I= indigenous, H= hybrid)\n",
      "43 25.  Please specify your reason behind adoption of imported or commercial crop species if applicable\n",
      "44 26. Comparative advantage between Indigenous and Imported hybrid crops in terms of [Productivity per unit of land]\n",
      "45 26. Comparative advantage between Indigenous and Imported hybrid crops in terms of  [Possibility to plant across years]\n",
      "46 26. Comparative advantage between Indigenous and Imported hybrid crops in terms of  [Aesthetically good-looking]\n",
      "47 26. Comparative advantage between Indigenous and Imported hybrid crops in terms of  [Vulnerability to pests]\n",
      "48 26.  Comparative advantage between Indigenous and Imported hybrid crops in terms of  [Vulnerability to damage by wildlife]\n",
      "49 26.  Comparative advantage between Indigenous and Imported hybrid crops in terms of  [Suitable to local biodiversity and pollinators]\n",
      "50 26.  Comparative advantage between Indigenous and Imported hybrid crops in terms of  [More amount of fertilizers and pesticide necessary]\n",
      "51 26. Comparative advantage between Indigenous and Imported hybrid crops in terms of  [More amount of water necessary]\n",
      "52 26. Comparative advantage between Indigenous and Imported hybrid crops in terms of  [Adverse impact to soil health and productivity]\n",
      "53 26. Comparative advantage between Indigenous and Imported hybrid crops in terms of  [Less amount of time and energy necessary]\n",
      "54 26.Comparative advantage between Indigenous and Imported hybrid crops in terms of [Overall climate suitability]\n",
      "55 26.Comparative advantage between Indigenous and Imported hybrid crops in terms of  [Initial costliness]\n",
      "56 26.Comparative advantage between Indigenous and Imported hybrid crops in terms of  [Economic or market viability/demand]\n",
      "57 26.Comparative advantage between Indigenous and Imported hybrid crops in terms of [Less perishable and higher storage life]\n",
      "58 26.Comparative advantage between Indigenous and Imported hybrid crops in terms of  [Others (please specify)]\n",
      "59 27.  Have you observed dependency on imported cereal/cash crop to have caused gradual conversion of forest and rangeland resources into agricultural fields in your community?\n",
      "60 28.  Have you observed unwanted introduction and intrusion of alien legumes and shrub species in your household farm plots?\n",
      "61 29.  Do you recall any past event concerning crop cycle that had caused introduction of such alien legumes and shrub species? Please explain\n",
      "62 30.  Please list the names of such intruding plant species\n",
      "63 31.  Have you observed similar unwanted species to have also intruded local forests and rangelands?\n",
      "64 32. If yes, Please lists out the negative impacts of invasive species. [No effect]\n",
      "65 32. If yes, Please lists out the negative impacts of invasive species. [Affected biodiversity and indigenous plant species]\n",
      "66 32. If yes, Please lists out the negative impacts of invasive species. [Loss of usable litter and biomass availability]\n",
      "67 32. If yes, Please lists out the negative impacts of invasive species. [Loss of groundwater conduction ability]\n",
      "68 32. If yes, Please lists out the negative impacts of invasive species. [Increased morbidity and mortality of domestic animals]\n",
      "69 32. If yes, Please lists out the negative impacts of invasive species. [Reduce agricultural production]\n",
      "70 32.If yes, Please lists out the negative impacts of invasive species. [Others]\n",
      "71 32. If yes, Please lists out the positive  impacts of invasive species. [No effect]\n",
      "72 32. If yes, Please lists out the positive  impacts of invasive species. [Increased availability of fodder for cattle]\n",
      "73 32.If yes, Please lists out the positive  impacts of invasive species. [Increased access to medicinal herbs]\n",
      "74 32. If yes, Please lists out the positive  impacts of invasive species. . [Increased availability of litter to produce manure]\n",
      "75 33.  What kind of below-mentioned practice is relevant to your farm plot?  [Others]\n",
      "76 33.  What kind of below-mentioned practice is relevant to your farm plot?  [Chemical fertilizer Only]\n",
      "77 33.  What kind of below-mentioned practice is relevant to your farm plot?  [Traditional biomass manure only]\n",
      "78 33.  What kind of below-mentioned practice is relevant to your farm plot?  [Mix of chemical and biomass-based fertilizer]\n",
      "79 34.  Have you integrated trees & shrubs in your farm plots?\n",
      "80 35.  Which species type of trees or shrubs have you planted in your integrated farm plot? Please explain their e and type. (N= native, I= Introduced)\n",
      "81 36.  Please explain your reasons behind it\n",
      "82 37.  Has agroforestry reduced your dependency on forests and rangelands for gathering fodder and forage?\n",
      "83 38. What energy source do you utilize for fulfilling the following energy needs? [Cooking and water boiling]\n",
      "84 38. What energy source do you utilize for fulfilling the following energy needs? [Space heating]\n",
      "85 38.What energy source do you utilize for fulfilling the following energy needs? [Lighting purpose]\n",
      "86 38. What energy source do you utilize for fulfilling the following energy needs? [Running household appliances and utilities]\n",
      "87 38. What energy source do you utilize for fulfilling the following energy needs? [Running commercial and industrial machineries]\n",
      "88 38. What energy source do you utilize for fulfilling the following energy needs? [Pumping or conducting water]\n",
      "89 38. What energy source do you utilize for fulfilling the following energy needs? [Crop processing and milling]\n",
      "90 38. What energy source do you utilize for fulfilling the following energy needs? [Others]\n",
      "91 39. Do you observe or realize thinning availability of fuelwood and traditional biomass due to harvesting of fuelwood?\n",
      "92 40.  Are you willing to transit to cleaner and convenient source of energy if feasible?\n",
      "93 41.  Do you own or have access to cleaner and convenient source of energy that you have not used or used only partially?\n",
      "94 42.  What constraints or compulsions has kept you from transitioning towards cleaner and convenient source of energy?\n",
      "95 43.  Had you started collecting lesser amount of fuelwoods and traditional biomass following your adoption of cleaner and convenient source of energy for fulfilling energy needs?\n",
      "96 44.  If no, how have you started utilizing the fuelwood and traditional biomass after you have stopped depending on them for fulfilling energy needs?\n",
      "97 45. Additional information\n"
     ]
    }
   ],
   "source": [
    "#Importing the data concerning proximity of farm to forest\n",
    "File = pd.read_csv(\"Nexus_strip.csv\")\n",
    "Nexus = pd.DataFrame(File)\n",
    "Nexus.drop(columns = \"Unnamed: 0\", axis = 1, inplace = True)\n",
    "\n",
    "colls = Nexus.columns.to_list()\n",
    "for i, columns in enumerate(colls):\n",
    "    print(i, columns)"
   ]
  },
  {
   "cell_type": "code",
   "execution_count": 6,
   "id": "be544ae9",
   "metadata": {},
   "outputs": [
    {
     "name": "stdout",
     "output_type": "stream",
     "text": [
      "<class 'pandas.core.frame.DataFrame'>\n",
      "RangeIndex: 118 entries, 0 to 117\n",
      "Data columns (total 1 columns):\n",
      " #   Column                       Non-Null Count  Dtype \n",
      "---  ------                       --------------  ----- \n",
      " 0   Proximity of farm to forest  118 non-null    object\n",
      "dtypes: object(1)\n",
      "memory usage: 1.1+ KB\n"
     ]
    }
   ],
   "source": [
    "Farm_to_Forest = Nexus.iloc[:, 26:27]\n",
    "Farm_to_Forest.rename(columns = {\"16.  Is your farm plots close to the local forest or rangeland?\": \"Proximity of farm to forest\"},\n",
    "                      inplace = True)\n",
    "Farm_to_Forest.info()"
   ]
  },
  {
   "cell_type": "code",
   "execution_count": 7,
   "id": "10509254",
   "metadata": {},
   "outputs": [
    {
     "name": "stdout",
     "output_type": "stream",
     "text": [
      "<class 'pandas.core.frame.DataFrame'>\n",
      "RangeIndex: 118 entries, 0 to 117\n",
      "Data columns (total 1 columns):\n",
      " #   Column         Non-Null Count  Dtype \n",
      "---  ------         --------------  ----- \n",
      " 0   Manure Choice  117 non-null    object\n",
      "dtypes: object(1)\n",
      "memory usage: 1.1+ KB\n"
     ]
    }
   ],
   "source": [
    "#Now retrieving the target dataset\n",
    "File = pd.read_csv(\"Target Manure.csv\")\n",
    "Manure_Choice = pd.DataFrame(File)\n",
    "Manure_Choice.drop(columns = \"Unnamed: 0\", axis = 1, inplace = True)\n",
    "Manure_Choice.info()"
   ]
  },
  {
   "cell_type": "code",
   "execution_count": 8,
   "id": "2d0802f9",
   "metadata": {},
   "outputs": [
    {
     "name": "stdout",
     "output_type": "stream",
     "text": [
      "<class 'pandas.core.frame.DataFrame'>\n",
      "RangeIndex: 118 entries, 0 to 117\n",
      "Data columns (total 6 columns):\n",
      " #   Column                       Non-Null Count  Dtype  \n",
      "---  ------                       --------------  -----  \n",
      " 0   Municipality                 118 non-null    object \n",
      " 1   Sex                          117 non-null    object \n",
      " 2   Age                          115 non-null    float64\n",
      " 3   Educational Qualification    117 non-null    object \n",
      " 4   Proximity of farm to forest  118 non-null    object \n",
      " 5   Manure Choice                117 non-null    object \n",
      "dtypes: float64(1), object(5)\n",
      "memory usage: 5.7+ KB\n"
     ]
    }
   ],
   "source": [
    "Manure_Choice = pd.concat([Personal_SD, Farm_to_Forest, Manure_Choice], axis = 1)\n",
    "Manure_Choice.info()"
   ]
  },
  {
   "cell_type": "code",
   "execution_count": 9,
   "id": "32c64ebb",
   "metadata": {},
   "outputs": [
    {
     "name": "stdout",
     "output_type": "stream",
     "text": [
      "<class 'pandas.core.frame.DataFrame'>\n",
      "Index: 114 entries, 0 to 117\n",
      "Data columns (total 6 columns):\n",
      " #   Column                       Non-Null Count  Dtype  \n",
      "---  ------                       --------------  -----  \n",
      " 0   Municipality                 114 non-null    object \n",
      " 1   Sex                          114 non-null    object \n",
      " 2   Age                          114 non-null    float64\n",
      " 3   Educational Qualification    114 non-null    object \n",
      " 4   Proximity of farm to forest  114 non-null    object \n",
      " 5   Manure Choice                114 non-null    object \n",
      "dtypes: float64(1), object(5)\n",
      "memory usage: 6.2+ KB\n"
     ]
    }
   ],
   "source": [
    "#Since it does not look like imputing the most frequent value is wise for personal data in contrast to perception. We shall delete all null values also\n",
    "# because our dataset has relatively less null values, and therefore won't affect the sample size\n",
    "\n",
    "Manure_Choice.dropna(inplace = True) \n",
    "Manure_Choice.info()\n",
    "#Ok, now we have pretty tight dataset"
   ]
  },
  {
   "cell_type": "markdown",
   "id": "3142dc51",
   "metadata": {},
   "source": [
    "### Data Preprocessing"
   ]
  },
  {
   "cell_type": "code",
   "execution_count": 10,
   "id": "963031f4",
   "metadata": {},
   "outputs": [
    {
     "name": "stdout",
     "output_type": "stream",
     "text": [
      "40 28 46 40 28 46\n"
     ]
    }
   ],
   "source": [
    "#lets break the dataframe into independent and dependent variables before we proceed with the splitting task\n",
    "x_value = Manure_Choice.drop(columns = \"Manure Choice\", axis = 1)\n",
    "y_value = Manure_Choice[\"Manure Choice\"] #Keep note that this single column will turn into a series and not dataframe unless intervened\n",
    "\n",
    "from sklearn.model_selection import train_test_split\n",
    "x_train_eval, x_test, y_train_eval, y_test = train_test_split(x_value,\n",
    "                                                              y_value,\n",
    "                                                              test_size=0.40,\n",
    "                                                              random_state = 0,\n",
    "                                                              stratify=y_value)\n",
    "x_train, x_eval, y_train, y_eval = train_test_split(x_train_eval,\n",
    "                                                    y_train_eval,\n",
    "                                                    test_size=0.40,\n",
    "                                                    random_state = 0,\n",
    "                                                    stratify = y_train_eval)\n",
    "print(x_train.shape[0], x_eval.shape[0], x_test.shape[0], y_train.shape[0], y_eval.shape[0], y_test.shape[0]) "
   ]
  },
  {
   "cell_type": "markdown",
   "id": "2499f00c",
   "metadata": {},
   "source": [
    "#### Encoding the Independent Variables (OneHotEncoding)"
   ]
  },
  {
   "cell_type": "code",
   "execution_count": 11,
   "id": "73a14a50",
   "metadata": {},
   "outputs": [
    {
     "name": "stdout",
     "output_type": "stream",
     "text": [
      "<class 'pandas.core.frame.DataFrame'>\n",
      "Index: 40 entries, 103 to 38\n",
      "Data columns (total 5 columns):\n",
      " #   Column                       Non-Null Count  Dtype  \n",
      "---  ------                       --------------  -----  \n",
      " 0   Municipality                 40 non-null     object \n",
      " 1   Sex                          40 non-null     object \n",
      " 2   Age                          40 non-null     float64\n",
      " 3   Educational Qualification    40 non-null     object \n",
      " 4   Proximity of farm to forest  40 non-null     object \n",
      "dtypes: float64(1), object(4)\n",
      "memory usage: 1.9+ KB\n"
     ]
    }
   ],
   "source": [
    "x_train.info()\n",
    "#first we need to get rid of the float datatype"
   ]
  },
  {
   "cell_type": "code",
   "execution_count": 12,
   "id": "e154505d",
   "metadata": {},
   "outputs": [
    {
     "name": "stdout",
     "output_type": "stream",
     "text": [
      "<class 'pandas.core.frame.DataFrame'>\n",
      "RangeIndex: 46 entries, 0 to 45\n",
      "Data columns (total 6 columns):\n",
      " #   Column                                          Non-Null Count  Dtype  \n",
      "---  ------                                          --------------  -----  \n",
      " 0   Municipality_Bheriganga (Surkhet)               46 non-null     float64\n",
      " 1   Municipality_Budhinanda (Bajura)                46 non-null     float64\n",
      " 2   Sex_Male                                        46 non-null     float64\n",
      " 3   Educational Qualification_Undergraduate         46 non-null     float64\n",
      " 4   Educational Qualification_Unofficial Education  46 non-null     float64\n",
      " 5   Proximity of farm to forest_Yes                 46 non-null     float64\n",
      "dtypes: float64(6)\n",
      "memory usage: 2.3 KB\n"
     ]
    },
    {
     "name": "stderr",
     "output_type": "stream",
     "text": [
      "d:\\Anaconda_navigator\\envs\\RP_env\\Lib\\site-packages\\sklearn\\preprocessing\\_encoders.py:246: UserWarning: Found unknown categories in columns [2] during transform. These unknown categories will be encoded as all zeros\n",
      "  warnings.warn(\n"
     ]
    }
   ],
   "source": [
    "x_train_cat = x_train.select_dtypes(include = \"object\")\n",
    "x_eval_cat = x_eval.select_dtypes(include = \"object\")\n",
    "x_test_cat = x_test.select_dtypes(include = \"object\")\n",
    "\n",
    "from sklearn.preprocessing import OneHotEncoder\n",
    "Encoder = OneHotEncoder(sparse_output= False,\n",
    "                        drop= \"first\",\n",
    "                       handle_unknown='ignore')\n",
    "Encoder.fit(x_train_cat)\n",
    "Encoded = Encoder.transform(x_train_cat)\n",
    "Encoded_x_train_cat = pd.DataFrame(Encoded, columns = Encoder.get_feature_names_out(x_train_cat.columns.to_list())) \n",
    "\n",
    "Encoded = Encoder.transform(x_eval_cat)\n",
    "Encoded_x_eval_cat = pd.DataFrame(Encoded, columns = Encoder.get_feature_names_out(x_train_cat.columns.to_list()))\n",
    "\n",
    "Encoded = Encoder.transform(x_test_cat)\n",
    "Encoded_x_test_cat = pd.DataFrame(Encoded, columns = Encoder.get_feature_names_out(x_train_cat.columns.to_list()))\n",
    "Encoded_x_test_cat.info()"
   ]
  },
  {
   "cell_type": "markdown",
   "id": "58d67ba5",
   "metadata": {},
   "source": [
    "#### Encoding the Independent Variable (Standardization)"
   ]
  },
  {
   "cell_type": "code",
   "execution_count": 13,
   "id": "e2a1eb8a",
   "metadata": {},
   "outputs": [
    {
     "name": "stdout",
     "output_type": "stream",
     "text": [
      "<class 'pandas.core.frame.DataFrame'>\n",
      "RangeIndex: 40 entries, 0 to 39\n",
      "Data columns (total 1 columns):\n",
      " #   Column  Non-Null Count  Dtype  \n",
      "---  ------  --------------  -----  \n",
      " 0   Age     40 non-null     float64\n",
      "dtypes: float64(1)\n",
      "memory usage: 452.0 bytes\n"
     ]
    }
   ],
   "source": [
    "x_train_numeric = x_train.select_dtypes(include= [\"int64\", \"float64\"])\n",
    "x_eval_numeric = x_eval.select_dtypes(include = [\"int64\", \"float64\"])\n",
    "x_test_numeric = x_test.select_dtypes(include = [\"int64\", \"float64\"])\n",
    "\n",
    "from sklearn.preprocessing import StandardScaler\n",
    "Scaler = StandardScaler()\n",
    "Scaler.fit(x_train_numeric)\n",
    "Scaled = Scaler.transform(x_train_numeric)\n",
    "Scaled_x_train_numeric = pd.DataFrame(Scaled, columns = x_train_numeric.columns.to_list())\n",
    "\n",
    "Scaled = Scaler.transform(x_eval_numeric)\n",
    "Scaled_x_eval_numeric = pd.DataFrame(Scaled, columns = x_train_numeric.columns.to_list())\n",
    "\n",
    "Scaled = Scaler.transform(x_test_numeric)\n",
    "Scaled_x_test_numeric = pd.DataFrame(Scaled, columns = x_train_numeric.columns.to_list())\n",
    "Scaled_x_train_numeric.info()"
   ]
  },
  {
   "cell_type": "code",
   "execution_count": 14,
   "id": "2b8b812d",
   "metadata": {},
   "outputs": [],
   "source": [
    "#Now, merging the encoded and standardized independent batches\n",
    "Encoded_x_train_df = pd.concat([Encoded_x_train_cat, Scaled_x_train_numeric],\n",
    "                                  axis = 1)\n",
    "Encoded_x_eval_df = pd.concat([Encoded_x_eval_cat, Scaled_x_eval_numeric],\n",
    "                                 axis = 1)\n",
    "Encoded_x_test_df = pd.concat([Encoded_x_test_cat, Scaled_x_test_numeric],\n",
    "                                 axis = 1)"
   ]
  },
  {
   "cell_type": "markdown",
   "id": "43586d9e",
   "metadata": {},
   "source": [
    "#### Encoding the Dependent variables (LabelEncoding)"
   ]
  },
  {
   "cell_type": "code",
   "execution_count": 15,
   "id": "0b45b175",
   "metadata": {},
   "outputs": [
    {
     "name": "stdout",
     "output_type": "stream",
     "text": [
      "0 Chemical Fertilizers only\n",
      "1 Mix of chemical fertilizers and traditional biomass\n",
      "2 Traditional biomass only\n"
     ]
    }
   ],
   "source": [
    "from sklearn.preprocessing import LabelEncoder\n",
    "label_encoder = LabelEncoder()\n",
    "label_encoder.fit(y_train)\n",
    "\n",
    "Encoded = label_encoder.transform(y_train)\n",
    "Encoded_y_train_df = pd.DataFrame(Encoded, columns = [\"Manure Choice\"])\n",
    "\n",
    "Encoded = label_encoder.transform(y_eval)\n",
    "Encoded_y_eval_df = pd.DataFrame(Encoded, columns = [\"Manure Choice\"])\n",
    "\n",
    "Encoded = label_encoder.transform(y_test)\n",
    "Encoded_y_test_df = pd.DataFrame(Encoded, columns = [\"Manure Choice\"])\n",
    "\n",
    "#Unravelling the label encoding pattern\n",
    "for i, labels in enumerate(label_encoder.classes_):\n",
    "    print(i, labels)\n"
   ]
  },
  {
   "cell_type": "markdown",
   "id": "55a8b588",
   "metadata": {},
   "source": [
    "### Data Analysis (RandomForestClassifier)"
   ]
  },
  {
   "cell_type": "code",
   "execution_count": 16,
   "id": "0c92b42d",
   "metadata": {},
   "outputs": [
    {
     "name": "stderr",
     "output_type": "stream",
     "text": [
      "d:\\Anaconda_navigator\\envs\\RP_env\\Lib\\site-packages\\sklearn\\base.py:1389: DataConversionWarning: A column-vector y was passed when a 1d array was expected. Please change the shape of y to (n_samples,), for example using ravel().\n",
      "  return fit_method(estimator, *args, **kwargs)\n",
      "d:\\Anaconda_navigator\\envs\\RP_env\\Lib\\site-packages\\sklearn\\base.py:1389: DataConversionWarning: A column-vector y was passed when a 1d array was expected. Please change the shape of y to (n_samples,), for example using ravel().\n",
      "  return fit_method(estimator, *args, **kwargs)\n",
      "d:\\Anaconda_navigator\\envs\\RP_env\\Lib\\site-packages\\sklearn\\base.py:1389: DataConversionWarning: A column-vector y was passed when a 1d array was expected. Please change the shape of y to (n_samples,), for example using ravel().\n",
      "  return fit_method(estimator, *args, **kwargs)\n",
      "d:\\Anaconda_navigator\\envs\\RP_env\\Lib\\site-packages\\sklearn\\base.py:1389: DataConversionWarning: A column-vector y was passed when a 1d array was expected. Please change the shape of y to (n_samples,), for example using ravel().\n",
      "  return fit_method(estimator, *args, **kwargs)\n",
      "d:\\Anaconda_navigator\\envs\\RP_env\\Lib\\site-packages\\sklearn\\base.py:1389: DataConversionWarning: A column-vector y was passed when a 1d array was expected. Please change the shape of y to (n_samples,), for example using ravel().\n",
      "  return fit_method(estimator, *args, **kwargs)\n",
      "d:\\Anaconda_navigator\\envs\\RP_env\\Lib\\site-packages\\sklearn\\base.py:1389: DataConversionWarning: A column-vector y was passed when a 1d array was expected. Please change the shape of y to (n_samples,), for example using ravel().\n",
      "  return fit_method(estimator, *args, **kwargs)\n",
      "d:\\Anaconda_navigator\\envs\\RP_env\\Lib\\site-packages\\sklearn\\base.py:1389: DataConversionWarning: A column-vector y was passed when a 1d array was expected. Please change the shape of y to (n_samples,), for example using ravel().\n",
      "  return fit_method(estimator, *args, **kwargs)\n",
      "d:\\Anaconda_navigator\\envs\\RP_env\\Lib\\site-packages\\sklearn\\base.py:1389: DataConversionWarning: A column-vector y was passed when a 1d array was expected. Please change the shape of y to (n_samples,), for example using ravel().\n",
      "  return fit_method(estimator, *args, **kwargs)\n",
      "d:\\Anaconda_navigator\\envs\\RP_env\\Lib\\site-packages\\sklearn\\base.py:1389: DataConversionWarning: A column-vector y was passed when a 1d array was expected. Please change the shape of y to (n_samples,), for example using ravel().\n",
      "  return fit_method(estimator, *args, **kwargs)\n",
      "d:\\Anaconda_navigator\\envs\\RP_env\\Lib\\site-packages\\sklearn\\base.py:1389: DataConversionWarning: A column-vector y was passed when a 1d array was expected. Please change the shape of y to (n_samples,), for example using ravel().\n",
      "  return fit_method(estimator, *args, **kwargs)\n",
      "d:\\Anaconda_navigator\\envs\\RP_env\\Lib\\site-packages\\sklearn\\base.py:1389: DataConversionWarning: A column-vector y was passed when a 1d array was expected. Please change the shape of y to (n_samples,), for example using ravel().\n",
      "  return fit_method(estimator, *args, **kwargs)\n",
      "d:\\Anaconda_navigator\\envs\\RP_env\\Lib\\site-packages\\sklearn\\base.py:1389: DataConversionWarning: A column-vector y was passed when a 1d array was expected. Please change the shape of y to (n_samples,), for example using ravel().\n",
      "  return fit_method(estimator, *args, **kwargs)\n",
      "d:\\Anaconda_navigator\\envs\\RP_env\\Lib\\site-packages\\sklearn\\base.py:1389: DataConversionWarning: A column-vector y was passed when a 1d array was expected. Please change the shape of y to (n_samples,), for example using ravel().\n",
      "  return fit_method(estimator, *args, **kwargs)\n",
      "d:\\Anaconda_navigator\\envs\\RP_env\\Lib\\site-packages\\sklearn\\base.py:1389: DataConversionWarning: A column-vector y was passed when a 1d array was expected. Please change the shape of y to (n_samples,), for example using ravel().\n",
      "  return fit_method(estimator, *args, **kwargs)\n",
      "d:\\Anaconda_navigator\\envs\\RP_env\\Lib\\site-packages\\sklearn\\base.py:1389: DataConversionWarning: A column-vector y was passed when a 1d array was expected. Please change the shape of y to (n_samples,), for example using ravel().\n",
      "  return fit_method(estimator, *args, **kwargs)\n"
     ]
    },
    {
     "name": "stdout",
     "output_type": "stream",
     "text": [
      "we deployed 2 features randomly in each tree\n",
      "[0.7142857142857143, 0.75, 0.75, 0.75, 0.75, 0.7142857142857143, 0.7142857142857143, 0.7142857142857143, 0.7142857142857143, 0.7142857142857143, 0.7142857142857143, 0.7142857142857143, 0.75, 0.75, 0.75]\n"
     ]
    }
   ],
   "source": [
    "import numpy as np\n",
    "from sklearn.ensemble import RandomForestClassifier\n",
    "\n",
    "maxfeatures = int(np.sqrt(x_train.shape[1]))\n",
    "Estimators = np.arange(10, 160, 10)\n",
    "Estimated = []\n",
    "\n",
    "for trees in Estimators:\n",
    "    rf = RandomForestClassifier(n_estimators= trees,\n",
    "                                max_features= maxfeatures,\n",
    "                                max_depth = None,\n",
    "                                random_state= 0)\n",
    "    rf.fit(Encoded_x_train_df, Encoded_y_train_df)\n",
    "    Scores = rf.score(Encoded_x_eval_df, Encoded_y_eval_df)\n",
    "    Estimated.append(Scores)\n",
    "print(f\"we deployed {maxfeatures} features randomly in each tree\")\n",
    "print(Estimated)"
   ]
  },
  {
   "cell_type": "code",
   "execution_count": 17,
   "id": "cbe9e517",
   "metadata": {},
   "outputs": [
    {
     "data": {
      "image/png": "[encoded data removed]",
      "text/plain": [
       "<Figure size 640x480 with 1 Axes>"
      ]
     },
     "metadata": {},
     "output_type": "display_data"
    },
    {
     "name": "stdout",
     "output_type": "stream",
     "text": [
      "It looks like some form of oscillation\n"
     ]
    }
   ],
   "source": [
    "#Now graphing the scores against the number of trees that were deployed for each forest\n",
    "import matplotlib as mpl\n",
    "import matplotlib.pyplot as plt\n",
    "\n",
    "fig, ax = plt.subplots()\n",
    "ax.plot(Estimators,\n",
    "        Estimated,\n",
    "        marker = \"s\",\n",
    "        markersize = 5,\n",
    "        color = \"black\",\n",
    "        label = \"R2score\")\n",
    "ax.set_title(\"R2 score across the number of estimators\",\n",
    "             fontweight = \"bold\")\n",
    "ax.set_xlabel(\"Estimators\",\n",
    "              fontweight = \"bold\")\n",
    "ax.set_ylabel(\"R2 scores\",\n",
    "              fontweight = \"bold\")\n",
    "ax.legend(loc = \"upper center\")\n",
    "plt.show()\n",
    "print(\"It looks like some form of oscillation\")"
   ]
  },
  {
   "cell_type": "code",
   "execution_count": 18,
   "id": "8aa0c469",
   "metadata": {},
   "outputs": [
    {
     "name": "stderr",
     "output_type": "stream",
     "text": [
      "d:\\Anaconda_navigator\\envs\\RP_env\\Lib\\site-packages\\sklearn\\base.py:1389: DataConversionWarning: A column-vector y was passed when a 1d array was expected. Please change the shape of y to (n_samples,), for example using ravel().\n",
      "  return fit_method(estimator, *args, **kwargs)\n"
     ]
    },
    {
     "name": "stdout",
     "output_type": "stream",
     "text": [
      "It appears our classifier model is only able explain 67.39 percent of the variance of the unseen test batch\n"
     ]
    }
   ],
   "source": [
    "#Now deploying the highest number of estimators to test the model in the unseen/test data\n",
    "rf = RandomForestClassifier(n_estimators=150,\n",
    "                            max_features = maxfeatures,\n",
    "                            max_depth = None,\n",
    "                            random_state = 0)\n",
    "rf.fit(Encoded_x_train_df, Encoded_y_train_df)\n",
    "test_score = rf.score(Encoded_x_test_df, Encoded_y_test_df)\n",
    "test_score\n",
    "print(f\"It appears our classifier model is only able explain {round((test_score*100),2)} percent of the variance of the unseen test batch\")"
   ]
  },
  {
   "cell_type": "code",
   "execution_count": 19,
   "id": "afcb8571",
   "metadata": {},
   "outputs": [
    {
     "data": {
      "text/html": [
       "<div>\n",
       "<style scoped>\n",
       "    .dataframe tbody tr th:only-of-type {\n",
       "        vertical-align: middle;\n",
       "    }\n",
       "\n",
       "    .dataframe tbody tr th {\n",
       "        vertical-align: top;\n",
       "    }\n",
       "\n",
       "    .dataframe thead th {\n",
       "        text-align: right;\n",
       "    }\n",
       "</style>\n",
       "<table border=\"1\" class=\"dataframe\">\n",
       "  <thead>\n",
       "    <tr style=\"text-align: right;\">\n",
       "      <th></th>\n",
       "      <th>Features</th>\n",
       "      <th>Significance</th>\n",
       "    </tr>\n",
       "  </thead>\n",
       "  <tbody>\n",
       "    <tr>\n",
       "      <th>3</th>\n",
       "      <td>Educational Qualification_Undergraduate</td>\n",
       "      <td>0.023431</td>\n",
       "    </tr>\n",
       "    <tr>\n",
       "      <th>2</th>\n",
       "      <td>Sex_Male</td>\n",
       "      <td>0.039708</td>\n",
       "    </tr>\n",
       "    <tr>\n",
       "      <th>5</th>\n",
       "      <td>Proximity of farm to forest_Yes</td>\n",
       "      <td>0.048031</td>\n",
       "    </tr>\n",
       "    <tr>\n",
       "      <th>4</th>\n",
       "      <td>Educational Qualification_Unofficial Education</td>\n",
       "      <td>0.057659</td>\n",
       "    </tr>\n",
       "    <tr>\n",
       "      <th>0</th>\n",
       "      <td>Municipality_Bheriganga (Surkhet)</td>\n",
       "      <td>0.130701</td>\n",
       "    </tr>\n",
       "    <tr>\n",
       "      <th>6</th>\n",
       "      <td>Age</td>\n",
       "      <td>0.322127</td>\n",
       "    </tr>\n",
       "    <tr>\n",
       "      <th>1</th>\n",
       "      <td>Municipality_Budhinanda (Bajura)</td>\n",
       "      <td>0.378343</td>\n",
       "    </tr>\n",
       "  </tbody>\n",
       "</table>\n",
       "</div>"
      ],
      "text/plain": [
       "                                         Features  Significance\n",
       "3         Educational Qualification_Undergraduate      0.023431\n",
       "2                                        Sex_Male      0.039708\n",
       "5                 Proximity of farm to forest_Yes      0.048031\n",
       "4  Educational Qualification_Unofficial Education      0.057659\n",
       "0               Municipality_Bheriganga (Surkhet)      0.130701\n",
       "6                                             Age      0.322127\n",
       "1                Municipality_Budhinanda (Bajura)      0.378343"
      ]
     },
     "execution_count": 19,
     "metadata": {},
     "output_type": "execute_result"
    }
   ],
   "source": [
    "#Checking the significance of the features in the development of our classifier model nevertheless\n",
    "Feature_Importances = rf.feature_importances_\n",
    "Feature_Importances = pd.DataFrame(Feature_Importances)\n",
    "Feature_Importances = Feature_Importances.T\n",
    "Feature_Importances.columns = Encoded_x_train_df.columns.to_list()\n",
    "Feature_Importances = Feature_Importances.T \n",
    "Feature_Importances.reset_index(inplace = True)\n",
    "Feature_Importances.columns = [\"Features\", \"Significance\"]\n",
    "Feature_Importances = Feature_Importances.sort_values(ascending = True, by = \"Significance\")\n",
    "Feature_Importances"
   ]
  },
  {
   "cell_type": "code",
   "execution_count": 20,
   "id": "ec1848bc",
   "metadata": {},
   "outputs": [
    {
     "data": {
      "image/png": "[encoded data removed]",
      "text/plain": [
       "<Figure size 640x480 with 1 Axes>"
      ]
     },
     "metadata": {},
     "output_type": "display_data"
    }
   ],
   "source": [
    "#Now horizontally bargraphing the feature significances\n",
    "import matplotlib as mpl\n",
    "import matplotlib.pyplot as plt\n",
    "\n",
    "fig, ax = plt.subplots()\n",
    "ax.barh(Feature_Importances[\"Features\"],\n",
    "        Feature_Importances[\"Significance\"],\n",
    "        color = \"grey\",\n",
    "        edgecolor = \"black\",\n",
    "        label = \"Significance\")\n",
    "ax.set_title(\"Features that were most Significant for Classification Model Development\",\n",
    "             fontweight = \"bold\")\n",
    "ax.set_xlabel(\"Significance\",\n",
    "              fontweight = \"bold\")\n",
    "ax.set_ylabel(\"Features\",\n",
    "              fontweight = \"bold\")\n",
    "ax.legend()\n",
    "plt.show()"
   ]
  },
  {
   "cell_type": "code",
   "execution_count": 21,
   "id": "50f4a708",
   "metadata": {},
   "outputs": [
    {
     "name": "stdout",
     "output_type": "stream",
     "text": [
      "                                                     precision    recall  f1-score   support\n",
      "\n",
      "                          Chemical Fertilizers only       0.00      0.00      0.00         0\n",
      "Mix of chemical fertilizers and traditional biomass       0.86      0.71      0.77        34\n",
      "                           Traditional biomass only       0.41      0.58      0.48        12\n",
      "\n",
      "                                           accuracy                           0.67        46\n",
      "                                          macro avg       0.42      0.43      0.42        46\n",
      "                                       weighted avg       0.74      0.67      0.70        46\n",
      "\n"
     ]
    },
    {
     "name": "stderr",
     "output_type": "stream",
     "text": [
      "d:\\Anaconda_navigator\\envs\\RP_env\\Lib\\site-packages\\sklearn\\metrics\\_classification.py:1565: UndefinedMetricWarning: Recall is ill-defined and being set to 0.0 in labels with no true samples. Use `zero_division` parameter to control this behavior.\n",
      "  _warn_prf(average, modifier, f\"{metric.capitalize()} is\", len(result))\n",
      "d:\\Anaconda_navigator\\envs\\RP_env\\Lib\\site-packages\\sklearn\\metrics\\_classification.py:1565: UndefinedMetricWarning: Recall is ill-defined and being set to 0.0 in labels with no true samples. Use `zero_division` parameter to control this behavior.\n",
      "  _warn_prf(average, modifier, f\"{metric.capitalize()} is\", len(result))\n",
      "d:\\Anaconda_navigator\\envs\\RP_env\\Lib\\site-packages\\sklearn\\metrics\\_classification.py:1565: UndefinedMetricWarning: Recall is ill-defined and being set to 0.0 in labels with no true samples. Use `zero_division` parameter to control this behavior.\n",
      "  _warn_prf(average, modifier, f\"{metric.capitalize()} is\", len(result))\n"
     ]
    }
   ],
   "source": [
    "#Now preparing the classification report\n",
    "Encoded_y_test_df_hat = rf.predict(Encoded_x_test_df)\n",
    "Unencodd_y_test_df_hat = label_encoder.inverse_transform(Encoded_y_test_df_hat)\n",
    "\n",
    "from sklearn.metrics import classification_report\n",
    "print(classification_report(Unencodd_y_test_df_hat, y_test))"
   ]
  },
  {
   "cell_type": "code",
   "execution_count": 22,
   "id": "241ae808",
   "metadata": {},
   "outputs": [
    {
     "data": {
      "image/png": "[encoded data removed]",
      "text/plain": [
       "<Figure size 640x480 with 2 Axes>"
      ]
     },
     "metadata": {},
     "output_type": "display_data"
    }
   ],
   "source": [
    "#Now producing the confusion matrix likewise\n",
    "from sklearn.metrics import confusion_matrix\n",
    "Conf_matrx = confusion_matrix(Unencodd_y_test_df_hat, y_test)\n",
    "\n",
    "import matplotlib as mpl\n",
    "import matplotlib.pyplot as plt\n",
    "import seaborn as sns\n",
    "\n",
    "fig, ax = plt.subplots()\n",
    "sns.heatmap(Conf_matrx,\n",
    "            annot= True,\n",
    "            cmap = \"Blues\",\n",
    "            xticklabels = label_encoder.classes_,\n",
    "            yticklabels= label_encoder.classes_,\n",
    "            ax=ax)\n",
    "ax.set_title(\"Confusion Matrix for Manure Choices\",\n",
    "             fontweight = \"bold\")\n",
    "ax.set_xlabel(\"Predicted Values\",\n",
    "              fontweight = \"bold\")\n",
    "ax.set_ylabel(\"Actual values\",\n",
    "              fontweight = \"bold\")\n",
    "\n",
    "xticklabels = ax.get_xticklabels()\n",
    "for label in xticklabels:\n",
    "    label.set_wrap(True)\n",
    "    label.set_ha(\"right\")\n",
    "    label.set_va(\"center\")\n",
    "\n",
    "yticklabels = ax.get_yticklabels()\n",
    "for label in yticklabels:\n",
    "    label.set_wrap(True)\n",
    "    label.set_ha(\"right\")\n",
    "    label.set_va(\"center\")\n",
    "\n",
    "plt.tight_layout()\n",
    "plt.show()\n"
   ]
  }
 ],
 "metadata": {
  "kernelspec": {
   "display_name": "RP_env",
   "language": "python",
   "name": "python3"
  },
  "language_info": {
   "codemirror_mode": {
    "name": "ipython",
    "version": 3
   },
   "file_extension": ".py",
   "mimetype": "text/x-python",
   "name": "python",
   "nbconvert_exporter": "python",
   "pygments_lexer": "ipython3",
   "version": "3.12.9"
  }
 },
 "nbformat": 4,
 "nbformat_minor": 5
}
