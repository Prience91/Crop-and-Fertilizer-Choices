{
 "cells": [
  {
   "cell_type": "code",
   "execution_count": 2,
   "id": "ea4be747",
   "metadata": {},
   "outputs": [
    {
     "data": {
      "text/plain": [
       "Index(['Respondent's Name', 'Municipality', 'Ward', 'Sex', 'Age',\n",
       "       'Number of Family members', 'Educational Qualification',\n",
       "       'Primary Occupation', 'Caste', 'Productivity per unit of land',\n",
       "       'Possibility to plant across years', 'Aesthetically good-looking',\n",
       "       'Vulnerability to pests', 'Vulnerability to damage by wildlife',\n",
       "       'Suitable to local biodiversity and pollinators',\n",
       "       'More amount of fertilizers and pesticide necessary',\n",
       "       'More amount of water necessary',\n",
       "       'Adverse impact to soil health and productivity',\n",
       "       'Less amount of time and energy necessary',\n",
       "       'Overall climate suitability', 'Initial costliness',\n",
       "       'Economic or market viability/demand',\n",
       "       'Less perishable and higher storage life', 'Crop Choice'],\n",
       "      dtype='object')"
      ]
     },
     "execution_count": 2,
     "metadata": {},
     "output_type": "execute_result"
    }
   ],
   "source": [
    "import pandas as pd\n",
    "File  = pd.read_csv(\"Master dataframe.csv\")\n",
    "Ag_dec_Sociodemo = pd.DataFrame(File)\n",
    "Ag_dec_Sociodemo.drop(columns = \"Unnamed: 0\", axis = 1, inplace = True)\n",
    "Ag_dec_Sociodemo.columns"
   ]
  },
  {
   "cell_type": "code",
   "execution_count": 3,
   "id": "d90bc9a6",
   "metadata": {},
   "outputs": [
    {
     "name": "stdout",
     "output_type": "stream",
     "text": [
      "<class 'pandas.core.frame.DataFrame'>\n",
      "RangeIndex: 117 entries, 0 to 116\n",
      "Data columns (total 24 columns):\n",
      " #   Column                                              Non-Null Count  Dtype  \n",
      "---  ------                                              --------------  -----  \n",
      " 0   Respondent's Name                                   117 non-null    object \n",
      " 1   Municipality                                        117 non-null    object \n",
      " 2   Ward                                                115 non-null    float64\n",
      " 3   Sex                                                 116 non-null    object \n",
      " 4   Age                                                 114 non-null    float64\n",
      " 5   Number of Family members                            114 non-null    float64\n",
      " 6   Educational Qualification                           116 non-null    object \n",
      " 7   Primary Occupation                                  115 non-null    object \n",
      " 8   Caste                                               116 non-null    object \n",
      " 9   Productivity per unit of land                       51 non-null     object \n",
      " 10  Possibility to plant across years                   44 non-null     object \n",
      " 11  Aesthetically good-looking                          50 non-null     object \n",
      " 12  Vulnerability to pests                              58 non-null     object \n",
      " 13  Vulnerability to damage by wildlife                 56 non-null     object \n",
      " 14  Suitable to local biodiversity and pollinators      50 non-null     object \n",
      " 15  More amount of fertilizers and pesticide necessary  59 non-null     object \n",
      " 16  More amount of water necessary                      59 non-null     object \n",
      " 17  Adverse impact to soil health and productivity      57 non-null     object \n",
      " 18  Less amount of time and energy necessary            58 non-null     object \n",
      " 19  Overall climate suitability                         50 non-null     object \n",
      " 20  Initial costliness                                  53 non-null     object \n",
      " 21  Economic or market viability/demand                 53 non-null     object \n",
      " 22  Less perishable and higher storage life             56 non-null     object \n",
      " 23  Crop Choice                                         117 non-null    object \n",
      "dtypes: float64(3), object(21)\n",
      "memory usage: 22.1+ KB\n"
     ]
    }
   ],
   "source": [
    "Ag_dec_Sociodemo.info()"
   ]
  },
  {
   "cell_type": "markdown",
   "id": "b7a2b893",
   "metadata": {},
   "source": [
    "### Preparing our entire feature set for analysis "
   ]
  },
  {
   "cell_type": "markdown",
   "id": "423c21f5",
   "metadata": {},
   "source": [
    "For our purpose, we shall only observe how the factors such as Age, Sex, Location, and Educational Qualification representing sociodemographic profile of the repsondents affect crop choices (Now, we do not yet have sufficient literary evidence to justify why we have only decided to choose Age, Sex, Location, and Education Qualification as our socio-demographic variables). Although the respondents may not be a household head, the fact that most of them are farmers (i.e., conveyed Agriculture as their primary occupation) provides a sufficient ground for them to qualify as individuals of the household that at least take significant agricultural decisions constituting nature of crop to be planted in their farmland  "
   ]
  },
  {
   "cell_type": "code",
   "execution_count": 4,
   "id": "de8d2e6b",
   "metadata": {},
   "outputs": [
    {
     "data": {
      "text/plain": [
       "Index(['Sex', 'Age', 'Number of Family members', 'Educational Qualification',\n",
       "       'Crop Choice'],\n",
       "      dtype='object')"
      ]
     },
     "execution_count": 4,
     "metadata": {},
     "output_type": "execute_result"
    }
   ],
   "source": [
    "Selected_data = Ag_dec_Sociodemo[[\"Sex\", \"Age\", \"Number of Family members\", \"Educational Qualification\", \"Crop Choice\"]]\n",
    "Selected_data.columns"
   ]
  },
  {
   "cell_type": "code",
   "execution_count": 5,
   "id": "58608d6c",
   "metadata": {},
   "outputs": [
    {
     "name": "stdout",
     "output_type": "stream",
     "text": [
      "<class 'pandas.core.frame.DataFrame'>\n",
      "RangeIndex: 118 entries, 0 to 117\n",
      "Data columns (total 1 columns):\n",
      " #   Column                       Non-Null Count  Dtype \n",
      "---  ------                       --------------  ----- \n",
      " 0   Proximity of farm to forest  118 non-null    object\n",
      "dtypes: object(1)\n",
      "memory usage: 1.1+ KB\n"
     ]
    }
   ],
   "source": [
    "#Now lets introduce are another variable that we assume to be predictor of crop choices. Since, we do not have this feature in our master dataframe,\n",
    "#we will have to borrow it from the original nexus xls file. \n",
    "File = pd.read_csv(\"Nexus_strip.csv\")\n",
    "Nexus = pd.DataFrame(File)\n",
    "Farm_forest = Nexus[\"16.  Is your farm plots close to the local forest or rangeland?\"]\n",
    "Farm_forest = pd.DataFrame(Farm_forest)\n",
    "Farm_forest.rename(columns = {\"16.  Is your farm plots close to the local forest or rangeland?\": \"Proximity of farm to forest\"}, inplace = True)\n",
    "Farm_forest.info()"
   ]
  },
  {
   "cell_type": "code",
   "execution_count": 6,
   "id": "12e6effa",
   "metadata": {},
   "outputs": [
    {
     "name": "stdout",
     "output_type": "stream",
     "text": [
      "<class 'pandas.core.frame.DataFrame'>\n",
      "RangeIndex: 118 entries, 0 to 117\n",
      "Data columns (total 6 columns):\n",
      " #   Column                       Non-Null Count  Dtype  \n",
      "---  ------                       --------------  -----  \n",
      " 0   Sex                          116 non-null    object \n",
      " 1   Age                          114 non-null    float64\n",
      " 2   Number of Family members     114 non-null    float64\n",
      " 3   Educational Qualification    116 non-null    object \n",
      " 4   Crop Choice                  117 non-null    object \n",
      " 5   Proximity of farm to forest  118 non-null    object \n",
      "dtypes: float64(2), object(4)\n",
      "memory usage: 5.7+ KB\n"
     ]
    }
   ],
   "source": [
    "#So, lets combine our probable predicting variables into a single dataframe before further preprocessing\n",
    "Ag_dec_SD = pd.concat([Selected_data, Farm_forest], axis = 1)\n",
    "Ag_dec_SD.info()"
   ]
  },
  {
   "cell_type": "code",
   "execution_count": 7,
   "id": "e259cf29",
   "metadata": {},
   "outputs": [],
   "source": [
    "#Need to again get rid of the null value in the target variable that appeared after dataframe merging\n",
    "Ag_dec_SD.dropna(subset = [\"Crop Choice\"], inplace=True)"
   ]
  },
  {
   "cell_type": "markdown",
   "id": "bff7edac",
   "metadata": {},
   "source": [
    "#### Exploratory Data Analysis"
   ]
  },
  {
   "cell_type": "code",
   "execution_count": 8,
   "id": "d96dc5d4",
   "metadata": {},
   "outputs": [
    {
     "data": {
      "text/plain": [
       "Proximity of farm to forest\n",
       "Yes    92\n",
       "No     25\n",
       "Name: count, dtype: int64"
      ]
     },
     "execution_count": 8,
     "metadata": {},
     "output_type": "execute_result"
    }
   ],
   "source": [
    "Ag_dec_SD[\"Proximity of farm to forest\"].value_counts()\n",
    "#conveys that most of our respondents own farmlands close to forest"
   ]
  },
  {
   "cell_type": "code",
   "execution_count": 9,
   "id": "68df49ee",
   "metadata": {},
   "outputs": [
    {
     "data": {
      "text/html": [
       "<div>\n",
       "<style scoped>\n",
       "    .dataframe tbody tr th:only-of-type {\n",
       "        vertical-align: middle;\n",
       "    }\n",
       "\n",
       "    .dataframe tbody tr th {\n",
       "        vertical-align: top;\n",
       "    }\n",
       "\n",
       "    .dataframe thead th {\n",
       "        text-align: right;\n",
       "    }\n",
       "</style>\n",
       "<table border=\"1\" class=\"dataframe\">\n",
       "  <thead>\n",
       "    <tr style=\"text-align: right;\">\n",
       "      <th>Crop Choice</th>\n",
       "      <th>Planting of hybrid species of crops only</th>\n",
       "      <th>Planting of indigenous species of crops only</th>\n",
       "      <th>Planting of mix of hybrid and indigenous species of crops</th>\n",
       "    </tr>\n",
       "    <tr>\n",
       "      <th>Proximity of farm to forest</th>\n",
       "      <th></th>\n",
       "      <th></th>\n",
       "      <th></th>\n",
       "    </tr>\n",
       "  </thead>\n",
       "  <tbody>\n",
       "    <tr>\n",
       "      <th>No</th>\n",
       "      <td>1</td>\n",
       "      <td>16</td>\n",
       "      <td>8</td>\n",
       "    </tr>\n",
       "    <tr>\n",
       "      <th>Yes</th>\n",
       "      <td>8</td>\n",
       "      <td>35</td>\n",
       "      <td>49</td>\n",
       "    </tr>\n",
       "  </tbody>\n",
       "</table>\n",
       "</div>"
      ],
      "text/plain": [
       "Crop Choice                  Planting of hybrid species of crops only  \\\n",
       "Proximity of farm to forest                                             \n",
       "No                                                                  1   \n",
       "Yes                                                                 8   \n",
       "\n",
       "Crop Choice                  Planting of indigenous species of crops only  \\\n",
       "Proximity of farm to forest                                                 \n",
       "No                                                                     16   \n",
       "Yes                                                                    35   \n",
       "\n",
       "Crop Choice                  Planting of mix of hybrid and indigenous species of crops  \n",
       "Proximity of farm to forest                                                             \n",
       "No                                                                           8          \n",
       "Yes                                                                         49          "
      ]
     },
     "execution_count": 9,
     "metadata": {},
     "output_type": "execute_result"
    }
   ],
   "source": [
    "#Lets check how crop choice differ among respondents who have farms close to forest and not\n",
    "pivot_ftf = Ag_dec_SD.pivot_table(index = \"Proximity of farm to forest\",\n",
    "                                  columns = \"Crop Choice\",\n",
    "                                  aggfunc=\"size\",\n",
    "                                  fill_value=0)\n",
    "pivot_ftf\n",
    "#Not much insight could be gained due to skewness of data of one against another"
   ]
  },
  {
   "cell_type": "markdown",
   "id": "155347f7",
   "metadata": {},
   "source": [
    "### Preprocessing (OneHotEncoding, Standardizing, LabelEncoding)"
   ]
  },
  {
   "cell_type": "code",
   "execution_count": 10,
   "id": "8d64c58e",
   "metadata": {},
   "outputs": [
    {
     "data": {
      "text/plain": [
       "Index(['Sex', 'Age', 'Number of Family members', 'Educational Qualification',\n",
       "       'Proximity of farm to forest'],\n",
       "      dtype='object')"
      ]
     },
     "execution_count": 10,
     "metadata": {},
     "output_type": "execute_result"
    }
   ],
   "source": [
    "#Now breaking our dataframe into independent and target datasets as we begin our preprocessing task\n",
    "Ag_dec_SD_ind = Ag_dec_SD.drop(columns = \"Crop Choice\", axis=1)\n",
    "Ag_dec_SD_ind.columns"
   ]
  },
  {
   "cell_type": "code",
   "execution_count": 11,
   "id": "be297a75",
   "metadata": {},
   "outputs": [
    {
     "name": "stdout",
     "output_type": "stream",
     "text": [
      "56 25 36 56 25 36\n"
     ]
    }
   ],
   "source": [
    "x_value = Ag_dec_SD_ind\n",
    "y_value = Ag_dec_SD[\"Crop Choice\"]\n",
    "#Before we preprocessed our data, it is essential to split them into training, evaluation, and testing batch to avoid data snooping\n",
    "from sklearn.model_selection import train_test_split\n",
    "x_train_eval, x_test, y_train_eval, y_test = train_test_split(x_value, y_value, test_size = 0.3, random_state = 0, stratify = y_value)\n",
    "x_train, x_eval, y_train, y_eval = train_test_split(x_train_eval, y_train_eval, test_size = 0.3, random_state = 0, stratify = y_train_eval)\n",
    "print(x_train.shape[0], x_eval.shape[0], x_test.shape[0], y_train.shape[0], y_eval.shape[0], y_test.shape[0])  "
   ]
  },
  {
   "cell_type": "markdown",
   "id": "e19036a1",
   "metadata": {},
   "source": [
    "Preprocessing of independent variables"
   ]
  },
  {
   "cell_type": "code",
   "execution_count": 12,
   "id": "d1e23732",
   "metadata": {},
   "outputs": [
    {
     "data": {
      "text/plain": [
       "Crop Choice\n",
       "Planting of mix of hybrid and indigenous species of crops    57\n",
       "Planting of indigenous species of crops only                 51\n",
       "Planting of hybrid species of crops only                      9\n",
       "Name: count, dtype: int64"
      ]
     },
     "execution_count": 12,
     "metadata": {},
     "output_type": "execute_result"
    }
   ],
   "source": [
    "y_value.value_counts()"
   ]
  },
  {
   "cell_type": "code",
   "execution_count": 13,
   "id": "0149ff49",
   "metadata": {},
   "outputs": [],
   "source": [
    "#Now for each batch of both independent and dependent datasets we need to seperate the continuous and categorical variables. But before that \n",
    "#lets turn them in dataframe for such abilities\n",
    "\n",
    "x_train_df = pd.DataFrame(x_train)\n",
    "y_train_df = pd.DataFrame(y_train)\n",
    "x_eval_df = pd.DataFrame(x_eval)\n",
    "y_eval_df = pd.DataFrame(y_eval)\n",
    "x_test_df = pd.DataFrame(x_test)\n",
    "y_test_df =pd.DataFrame(y_test)"
   ]
  },
  {
   "cell_type": "code",
   "execution_count": 14,
   "id": "8b076ba0",
   "metadata": {},
   "outputs": [
    {
     "name": "stdout",
     "output_type": "stream",
     "text": [
      "53 24 35 53 24 35\n"
     ]
    }
   ],
   "source": [
    "#So, now we drop all null values that are present in the independent variables for each batch seperately\n",
    "train_set = pd.concat([x_train_df, y_train_df], axis = 1)\n",
    "train_set.dropna(inplace = True)\n",
    "x_train_df = train_set.drop(columns = \"Crop Choice\")\n",
    "y_train_df = train_set[\"Crop Choice\"]\n",
    "\n",
    "eval_set = pd.concat([x_eval_df, y_eval_df], axis = 1)\n",
    "eval_set.dropna(inplace = True)\n",
    "x_eval_df = eval_set.drop(columns = \"Crop Choice\")\n",
    "y_eval_df = eval_set[\"Crop Choice\"]\n",
    "\n",
    "test_set = pd.concat([x_test_df, y_test_df], axis = 1)\n",
    "test_set.dropna(inplace = True)\n",
    "x_test_df = test_set.drop(columns = \"Crop Choice\")\n",
    "y_test_df = test_set[\"Crop Choice\"]\n",
    "\n",
    "print(x_train_df.shape[0], x_eval_df.shape[0], x_test_df.shape[0], y_train_df.shape[0], y_eval_df.shape[0], y_test_df.shape[0])"
   ]
  },
  {
   "cell_type": "code",
   "execution_count": 15,
   "id": "459bd2c1",
   "metadata": {},
   "outputs": [],
   "source": [
    "#Seperating numeric variables from categorical variables for independent batches\n",
    "x_train_df_numeric = x_train_df.select_dtypes(include = [\"float64\", \"int64\"])\n",
    "x_train_df_categorical = x_train_df.select_dtypes(include = \"object\")\n",
    "\n",
    "x_eval_df_numeric = x_eval_df.select_dtypes(include = [\"float64\", \"int64\"])\n",
    "x_eval_df_categorical = x_eval_df.select_dtypes(include = \"object\")\n",
    "\n",
    "x_test_df_numeric = x_test_df.select_dtypes(include = [\"float64\", \"int64\"])\n",
    "x_test_df_categorical = x_test_df.select_dtypes(include = [\"object\"])"
   ]
  },
  {
   "cell_type": "code",
   "execution_count": 16,
   "id": "b33e8197",
   "metadata": {},
   "outputs": [
    {
     "data": {
      "text/html": [
       "<div>\n",
       "<style scoped>\n",
       "    .dataframe tbody tr th:only-of-type {\n",
       "        vertical-align: middle;\n",
       "    }\n",
       "\n",
       "    .dataframe tbody tr th {\n",
       "        vertical-align: top;\n",
       "    }\n",
       "\n",
       "    .dataframe thead th {\n",
       "        text-align: right;\n",
       "    }\n",
       "</style>\n",
       "<table border=\"1\" class=\"dataframe\">\n",
       "  <thead>\n",
       "    <tr style=\"text-align: right;\">\n",
       "      <th></th>\n",
       "      <th>0</th>\n",
       "      <th>1</th>\n",
       "    </tr>\n",
       "  </thead>\n",
       "  <tbody>\n",
       "    <tr>\n",
       "      <th>0</th>\n",
       "      <td>-0.208638</td>\n",
       "      <td>0.497946</td>\n",
       "    </tr>\n",
       "    <tr>\n",
       "      <th>1</th>\n",
       "      <td>-1.538904</td>\n",
       "      <td>1.015420</td>\n",
       "    </tr>\n",
       "    <tr>\n",
       "      <th>2</th>\n",
       "      <td>-1.705187</td>\n",
       "      <td>0.497946</td>\n",
       "    </tr>\n",
       "    <tr>\n",
       "      <th>3</th>\n",
       "      <td>-0.208638</td>\n",
       "      <td>-1.054474</td>\n",
       "    </tr>\n",
       "    <tr>\n",
       "      <th>4</th>\n",
       "      <td>-0.042355</td>\n",
       "      <td>-0.537001</td>\n",
       "    </tr>\n",
       "  </tbody>\n",
       "</table>\n",
       "</div>"
      ],
      "text/plain": [
       "          0         1\n",
       "0 -0.208638  0.497946\n",
       "1 -1.538904  1.015420\n",
       "2 -1.705187  0.497946\n",
       "3 -0.208638 -1.054474\n",
       "4 -0.042355 -0.537001"
      ]
     },
     "execution_count": 16,
     "metadata": {},
     "output_type": "execute_result"
    }
   ],
   "source": [
    "#Now preprocessing the numeric nature of independent batches by standardizing them into z-scores\n",
    "from sklearn.preprocessing import StandardScaler\n",
    "Scaler = StandardScaler()\n",
    "Scaler.fit(x_train_df_numeric)\n",
    "x_train_numeric_std = Scaler.transform(x_train_df_numeric)\n",
    "x_train_numeric_std_df = pd.DataFrame(x_train_numeric_std)\n",
    "\n",
    "x_eval_numeric_std = Scaler.transform(x_eval_df_numeric)\n",
    "x_eval_numeric_std_df = pd.DataFrame(x_eval_numeric_std)\n",
    "\n",
    "x_test_numeric_std = Scaler.transform(x_test_df_numeric)\n",
    "x_test_numeric_std_df = pd.DataFrame(x_test_numeric_std)\n",
    "\n",
    "x_train_numeric_std_df.head()\n",
    "#Looks like they have gone well"
   ]
  },
  {
   "cell_type": "code",
   "execution_count": 17,
   "id": "d9bf6419",
   "metadata": {},
   "outputs": [
    {
     "data": {
      "text/html": [
       "<div>\n",
       "<style scoped>\n",
       "    .dataframe tbody tr th:only-of-type {\n",
       "        vertical-align: middle;\n",
       "    }\n",
       "\n",
       "    .dataframe tbody tr th {\n",
       "        vertical-align: top;\n",
       "    }\n",
       "\n",
       "    .dataframe thead th {\n",
       "        text-align: right;\n",
       "    }\n",
       "</style>\n",
       "<table border=\"1\" class=\"dataframe\">\n",
       "  <thead>\n",
       "    <tr style=\"text-align: right;\">\n",
       "      <th></th>\n",
       "      <th>Age</th>\n",
       "      <th>Number of Family members</th>\n",
       "    </tr>\n",
       "  </thead>\n",
       "  <tbody>\n",
       "    <tr>\n",
       "      <th>0</th>\n",
       "      <td>-1.538904</td>\n",
       "      <td>-1.054474</td>\n",
       "    </tr>\n",
       "    <tr>\n",
       "      <th>1</th>\n",
       "      <td>2.285609</td>\n",
       "      <td>-1.054474</td>\n",
       "    </tr>\n",
       "    <tr>\n",
       "      <th>2</th>\n",
       "      <td>-0.873771</td>\n",
       "      <td>-0.537001</td>\n",
       "    </tr>\n",
       "    <tr>\n",
       "      <th>3</th>\n",
       "      <td>-0.458063</td>\n",
       "      <td>-0.019527</td>\n",
       "    </tr>\n",
       "    <tr>\n",
       "      <th>4</th>\n",
       "      <td>0.955344</td>\n",
       "      <td>2.567840</td>\n",
       "    </tr>\n",
       "  </tbody>\n",
       "</table>\n",
       "</div>"
      ],
      "text/plain": [
       "        Age  Number of Family members\n",
       "0 -1.538904                 -1.054474\n",
       "1  2.285609                 -1.054474\n",
       "2 -0.873771                 -0.537001\n",
       "3 -0.458063                 -0.019527\n",
       "4  0.955344                  2.567840"
      ]
     },
     "execution_count": 17,
     "metadata": {},
     "output_type": "execute_result"
    }
   ],
   "source": [
    "x_train_numeric_std_df.columns = x_train_df_numeric.columns\n",
    "x_eval_numeric_std_df.columns = x_train_df_numeric.columns\n",
    "x_test_numeric_std_df.columns = x_train_df_numeric.columns\n",
    "x_test_numeric_std_df.head()\n",
    "#so far so good"
   ]
  },
  {
   "cell_type": "code",
   "execution_count": 18,
   "id": "5bc3a997",
   "metadata": {},
   "outputs": [
    {
     "name": "stderr",
     "output_type": "stream",
     "text": [
      "d:\\Anaconda_navigator\\envs\\RP_env\\Lib\\site-packages\\sklearn\\preprocessing\\_encoders.py:246: UserWarning: Found unknown categories in columns [1] during transform. These unknown categories will be encoded as all zeros\n",
      "  warnings.warn(\n",
      "d:\\Anaconda_navigator\\envs\\RP_env\\Lib\\site-packages\\sklearn\\preprocessing\\_encoders.py:246: UserWarning: Found unknown categories in columns [1] during transform. These unknown categories will be encoded as all zeros\n",
      "  warnings.warn(\n"
     ]
    },
    {
     "data": {
      "text/html": [
       "<div>\n",
       "<style scoped>\n",
       "    .dataframe tbody tr th:only-of-type {\n",
       "        vertical-align: middle;\n",
       "    }\n",
       "\n",
       "    .dataframe tbody tr th {\n",
       "        vertical-align: top;\n",
       "    }\n",
       "\n",
       "    .dataframe thead th {\n",
       "        text-align: right;\n",
       "    }\n",
       "</style>\n",
       "<table border=\"1\" class=\"dataframe\">\n",
       "  <thead>\n",
       "    <tr style=\"text-align: right;\">\n",
       "      <th></th>\n",
       "      <th>Sex_Male</th>\n",
       "      <th>Educational Qualification_Undergraduate</th>\n",
       "      <th>Educational Qualification_Unofficial Education</th>\n",
       "      <th>Proximity of farm to forest_Yes</th>\n",
       "    </tr>\n",
       "  </thead>\n",
       "  <tbody>\n",
       "    <tr>\n",
       "      <th>0</th>\n",
       "      <td>0.0</td>\n",
       "      <td>0.0</td>\n",
       "      <td>0.0</td>\n",
       "      <td>0.0</td>\n",
       "    </tr>\n",
       "    <tr>\n",
       "      <th>1</th>\n",
       "      <td>0.0</td>\n",
       "      <td>0.0</td>\n",
       "      <td>1.0</td>\n",
       "      <td>1.0</td>\n",
       "    </tr>\n",
       "    <tr>\n",
       "      <th>2</th>\n",
       "      <td>0.0</td>\n",
       "      <td>0.0</td>\n",
       "      <td>1.0</td>\n",
       "      <td>1.0</td>\n",
       "    </tr>\n",
       "    <tr>\n",
       "      <th>3</th>\n",
       "      <td>1.0</td>\n",
       "      <td>0.0</td>\n",
       "      <td>1.0</td>\n",
       "      <td>1.0</td>\n",
       "    </tr>\n",
       "    <tr>\n",
       "      <th>4</th>\n",
       "      <td>1.0</td>\n",
       "      <td>0.0</td>\n",
       "      <td>1.0</td>\n",
       "      <td>0.0</td>\n",
       "    </tr>\n",
       "  </tbody>\n",
       "</table>\n",
       "</div>"
      ],
      "text/plain": [
       "   Sex_Male  Educational Qualification_Undergraduate  \\\n",
       "0       0.0                                      0.0   \n",
       "1       0.0                                      0.0   \n",
       "2       0.0                                      0.0   \n",
       "3       1.0                                      0.0   \n",
       "4       1.0                                      0.0   \n",
       "\n",
       "   Educational Qualification_Unofficial Education  \\\n",
       "0                                             0.0   \n",
       "1                                             1.0   \n",
       "2                                             1.0   \n",
       "3                                             1.0   \n",
       "4                                             1.0   \n",
       "\n",
       "   Proximity of farm to forest_Yes  \n",
       "0                              0.0  \n",
       "1                              1.0  \n",
       "2                              1.0  \n",
       "3                              1.0  \n",
       "4                              0.0  "
      ]
     },
     "execution_count": 18,
     "metadata": {},
     "output_type": "execute_result"
    }
   ],
   "source": [
    "#Now preprocessing the categorical nature of the independent batches through onehotencoding\n",
    "from sklearn.preprocessing import OneHotEncoder\n",
    "encoder = OneHotEncoder(sparse_output = False, drop = \"first\", handle_unknown= \"ignore\")\n",
    "encoder.fit(x_train_df_categorical)\n",
    "encoded_x_train = encoder.transform(x_train_df_categorical)\n",
    "x_train_encoded_df = pd.DataFrame(encoded_x_train, columns = encoder.get_feature_names_out(x_train_df_categorical.columns.to_list()))\n",
    "\n",
    "encoded_x_eval = encoder.transform(x_eval_df_categorical)\n",
    "x_eval_encoded_df = pd.DataFrame(encoded_x_eval, columns = encoder.get_feature_names_out(x_train_df_categorical.columns.to_list()))\n",
    "\n",
    "encoded_x_test = encoder.transform(x_test_df_categorical)\n",
    "x_test_encoded_df = pd.DataFrame(encoded_x_test, columns = encoder.get_feature_names_out(x_train_df_categorical.columns.to_list()))\n",
    "x_test_encoded_df.head()\n",
    "#The encoding is a success"
   ]
  },
  {
   "cell_type": "code",
   "execution_count": 19,
   "id": "bffe5754",
   "metadata": {},
   "outputs": [
    {
     "data": {
      "text/html": [
       "<div>\n",
       "<style scoped>\n",
       "    .dataframe tbody tr th:only-of-type {\n",
       "        vertical-align: middle;\n",
       "    }\n",
       "\n",
       "    .dataframe tbody tr th {\n",
       "        vertical-align: top;\n",
       "    }\n",
       "\n",
       "    .dataframe thead th {\n",
       "        text-align: right;\n",
       "    }\n",
       "</style>\n",
       "<table border=\"1\" class=\"dataframe\">\n",
       "  <thead>\n",
       "    <tr style=\"text-align: right;\">\n",
       "      <th></th>\n",
       "      <th>Age</th>\n",
       "      <th>Number of Family members</th>\n",
       "      <th>Sex_Male</th>\n",
       "      <th>Educational Qualification_Undergraduate</th>\n",
       "      <th>Educational Qualification_Unofficial Education</th>\n",
       "      <th>Proximity of farm to forest_Yes</th>\n",
       "    </tr>\n",
       "  </thead>\n",
       "  <tbody>\n",
       "    <tr>\n",
       "      <th>0</th>\n",
       "      <td>-1.538904</td>\n",
       "      <td>-1.054474</td>\n",
       "      <td>0.0</td>\n",
       "      <td>0.0</td>\n",
       "      <td>0.0</td>\n",
       "      <td>0.0</td>\n",
       "    </tr>\n",
       "    <tr>\n",
       "      <th>1</th>\n",
       "      <td>2.285609</td>\n",
       "      <td>-1.054474</td>\n",
       "      <td>0.0</td>\n",
       "      <td>0.0</td>\n",
       "      <td>1.0</td>\n",
       "      <td>1.0</td>\n",
       "    </tr>\n",
       "    <tr>\n",
       "      <th>2</th>\n",
       "      <td>-0.873771</td>\n",
       "      <td>-0.537001</td>\n",
       "      <td>0.0</td>\n",
       "      <td>0.0</td>\n",
       "      <td>1.0</td>\n",
       "      <td>1.0</td>\n",
       "    </tr>\n",
       "    <tr>\n",
       "      <th>3</th>\n",
       "      <td>-0.458063</td>\n",
       "      <td>-0.019527</td>\n",
       "      <td>1.0</td>\n",
       "      <td>0.0</td>\n",
       "      <td>1.0</td>\n",
       "      <td>1.0</td>\n",
       "    </tr>\n",
       "    <tr>\n",
       "      <th>4</th>\n",
       "      <td>0.955344</td>\n",
       "      <td>2.567840</td>\n",
       "      <td>1.0</td>\n",
       "      <td>0.0</td>\n",
       "      <td>1.0</td>\n",
       "      <td>0.0</td>\n",
       "    </tr>\n",
       "  </tbody>\n",
       "</table>\n",
       "</div>"
      ],
      "text/plain": [
       "        Age  Number of Family members  Sex_Male  \\\n",
       "0 -1.538904                 -1.054474       0.0   \n",
       "1  2.285609                 -1.054474       0.0   \n",
       "2 -0.873771                 -0.537001       0.0   \n",
       "3 -0.458063                 -0.019527       1.0   \n",
       "4  0.955344                  2.567840       1.0   \n",
       "\n",
       "   Educational Qualification_Undergraduate  \\\n",
       "0                                      0.0   \n",
       "1                                      0.0   \n",
       "2                                      0.0   \n",
       "3                                      0.0   \n",
       "4                                      0.0   \n",
       "\n",
       "   Educational Qualification_Unofficial Education  \\\n",
       "0                                             0.0   \n",
       "1                                             1.0   \n",
       "2                                             1.0   \n",
       "3                                             1.0   \n",
       "4                                             1.0   \n",
       "\n",
       "   Proximity of farm to forest_Yes  \n",
       "0                              0.0  \n",
       "1                              1.0  \n",
       "2                              1.0  \n",
       "3                              1.0  \n",
       "4                              0.0  "
      ]
     },
     "execution_count": 19,
     "metadata": {},
     "output_type": "execute_result"
    }
   ],
   "source": [
    "#Ok now its time to merge the preprocessed independent datasets \n",
    "x_train_df = pd.concat([x_train_numeric_std_df, x_train_encoded_df], axis=1)\n",
    "x_eval_df = pd.concat([x_eval_numeric_std_df, x_eval_encoded_df], axis=1)\n",
    "x_test_df = pd.concat([x_test_numeric_std_df, x_test_encoded_df], axis=1)\n",
    "x_test_df.head()\n",
    "#The concatenation of the encoded dataframe of Independent variables is a success!"
   ]
  },
  {
   "cell_type": "markdown",
   "id": "87427afd",
   "metadata": {},
   "source": [
    "Preprocessing of Dependent Variables"
   ]
  },
  {
   "cell_type": "code",
   "execution_count": 20,
   "id": "52f89127",
   "metadata": {},
   "outputs": [
    {
     "name": "stdout",
     "output_type": "stream",
     "text": [
      "0 Planting of hybrid species of crops only\n",
      "1 Planting of indigenous species of crops only\n",
      "2 Planting of mix of hybrid and indigenous species of crops\n"
     ]
    }
   ],
   "source": [
    "#Now label encoding the batches of target variables. \n",
    "from sklearn.preprocessing import LabelEncoder\n",
    "\n",
    "label_encoder = LabelEncoder()\n",
    "label_encoder.fit(y_train_df)\n",
    "y_train_encoded = label_encoder.transform(y_train_df)\n",
    "y_train_encoded_df = pd.DataFrame(y_train_encoded)\n",
    "\n",
    "y_eval_encoded = label_encoder.transform(y_eval_df)\n",
    "y_eval_encoded_df = pd.DataFrame(y_eval_encoded)\n",
    "\n",
    "y_test_encoded = label_encoder.transform(y_test_df)\n",
    "y_test_encoded_df = pd.DataFrame(y_test_encoded)\n",
    "\n",
    "for i, labels in enumerate(label_encoder.classes_):\n",
    "    print(i, labels)"
   ]
  },
  {
   "cell_type": "code",
   "execution_count": 21,
   "id": "66522c79",
   "metadata": {},
   "outputs": [
    {
     "name": "stdout",
     "output_type": "stream",
     "text": [
      "Crop Choice\n",
      "2              27\n",
      "1              23\n",
      "0               3\n",
      "Name: count, dtype: int64\n",
      "Crop Choice\n",
      "2              12\n",
      "1              10\n",
      "0               2\n",
      "Name: count, dtype: int64\n",
      "Crop Choice\n",
      "2              17\n",
      "1              16\n",
      "0               2\n",
      "Name: count, dtype: int64\n"
     ]
    }
   ],
   "source": [
    "#Now adding names into the column\n",
    "column_names = [\"Crop Choice\"]\n",
    "y_train_encoded_df.columns = column_names\n",
    "y_eval_encoded_df.columns = column_names\n",
    "y_test_encoded_df.columns = column_names\n",
    "\n",
    "print(y_train_encoded_df.value_counts())\n",
    "print(y_eval_encoded_df.value_counts())\n",
    "print(y_test_encoded_df.value_counts())\n",
    "#Observe the distribution the minor label class \"o\" across the batches"
   ]
  },
  {
   "cell_type": "markdown",
   "id": "c1b2e9e4",
   "metadata": {},
   "source": [
    "### Processing the data (Ensemble Tree-based Models)"
   ]
  },
  {
   "cell_type": "markdown",
   "id": "f6793820",
   "metadata": {},
   "source": [
    "#### Random Forests"
   ]
  },
  {
   "cell_type": "code",
   "execution_count": 22,
   "id": "728e6074",
   "metadata": {},
   "outputs": [
    {
     "name": "stderr",
     "output_type": "stream",
     "text": [
      "d:\\Anaconda_navigator\\envs\\RP_env\\Lib\\site-packages\\sklearn\\base.py:1389: DataConversionWarning: A column-vector y was passed when a 1d array was expected. Please change the shape of y to (n_samples,), for example using ravel().\n",
      "  return fit_method(estimator, *args, **kwargs)\n",
      "d:\\Anaconda_navigator\\envs\\RP_env\\Lib\\site-packages\\sklearn\\base.py:1389: DataConversionWarning: A column-vector y was passed when a 1d array was expected. Please change the shape of y to (n_samples,), for example using ravel().\n",
      "  return fit_method(estimator, *args, **kwargs)\n",
      "d:\\Anaconda_navigator\\envs\\RP_env\\Lib\\site-packages\\sklearn\\base.py:1389: DataConversionWarning: A column-vector y was passed when a 1d array was expected. Please change the shape of y to (n_samples,), for example using ravel().\n",
      "  return fit_method(estimator, *args, **kwargs)\n",
      "d:\\Anaconda_navigator\\envs\\RP_env\\Lib\\site-packages\\sklearn\\base.py:1389: DataConversionWarning: A column-vector y was passed when a 1d array was expected. Please change the shape of y to (n_samples,), for example using ravel().\n",
      "  return fit_method(estimator, *args, **kwargs)\n",
      "d:\\Anaconda_navigator\\envs\\RP_env\\Lib\\site-packages\\sklearn\\base.py:1389: DataConversionWarning: A column-vector y was passed when a 1d array was expected. Please change the shape of y to (n_samples,), for example using ravel().\n",
      "  return fit_method(estimator, *args, **kwargs)\n",
      "d:\\Anaconda_navigator\\envs\\RP_env\\Lib\\site-packages\\sklearn\\base.py:1389: DataConversionWarning: A column-vector y was passed when a 1d array was expected. Please change the shape of y to (n_samples,), for example using ravel().\n",
      "  return fit_method(estimator, *args, **kwargs)\n",
      "d:\\Anaconda_navigator\\envs\\RP_env\\Lib\\site-packages\\sklearn\\base.py:1389: DataConversionWarning: A column-vector y was passed when a 1d array was expected. Please change the shape of y to (n_samples,), for example using ravel().\n",
      "  return fit_method(estimator, *args, **kwargs)\n",
      "d:\\Anaconda_navigator\\envs\\RP_env\\Lib\\site-packages\\sklearn\\base.py:1389: DataConversionWarning: A column-vector y was passed when a 1d array was expected. Please change the shape of y to (n_samples,), for example using ravel().\n",
      "  return fit_method(estimator, *args, **kwargs)\n",
      "d:\\Anaconda_navigator\\envs\\RP_env\\Lib\\site-packages\\sklearn\\base.py:1389: DataConversionWarning: A column-vector y was passed when a 1d array was expected. Please change the shape of y to (n_samples,), for example using ravel().\n",
      "  return fit_method(estimator, *args, **kwargs)\n",
      "d:\\Anaconda_navigator\\envs\\RP_env\\Lib\\site-packages\\sklearn\\base.py:1389: DataConversionWarning: A column-vector y was passed when a 1d array was expected. Please change the shape of y to (n_samples,), for example using ravel().\n",
      "  return fit_method(estimator, *args, **kwargs)\n",
      "d:\\Anaconda_navigator\\envs\\RP_env\\Lib\\site-packages\\sklearn\\base.py:1389: DataConversionWarning: A column-vector y was passed when a 1d array was expected. Please change the shape of y to (n_samples,), for example using ravel().\n",
      "  return fit_method(estimator, *args, **kwargs)\n",
      "d:\\Anaconda_navigator\\envs\\RP_env\\Lib\\site-packages\\sklearn\\base.py:1389: DataConversionWarning: A column-vector y was passed when a 1d array was expected. Please change the shape of y to (n_samples,), for example using ravel().\n",
      "  return fit_method(estimator, *args, **kwargs)\n",
      "d:\\Anaconda_navigator\\envs\\RP_env\\Lib\\site-packages\\sklearn\\base.py:1389: DataConversionWarning: A column-vector y was passed when a 1d array was expected. Please change the shape of y to (n_samples,), for example using ravel().\n",
      "  return fit_method(estimator, *args, **kwargs)\n",
      "d:\\Anaconda_navigator\\envs\\RP_env\\Lib\\site-packages\\sklearn\\base.py:1389: DataConversionWarning: A column-vector y was passed when a 1d array was expected. Please change the shape of y to (n_samples,), for example using ravel().\n",
      "  return fit_method(estimator, *args, **kwargs)\n",
      "d:\\Anaconda_navigator\\envs\\RP_env\\Lib\\site-packages\\sklearn\\base.py:1389: DataConversionWarning: A column-vector y was passed when a 1d array was expected. Please change the shape of y to (n_samples,), for example using ravel().\n",
      "  return fit_method(estimator, *args, **kwargs)\n"
     ]
    },
    {
     "name": "stdout",
     "output_type": "stream",
     "text": [
      "2 features are allowed per random tree in our models\n",
      "[5.180640948135611, 3.855138313883868, 3.8793119768077418, 3.9015849405683682, 2.5863592251893017, 2.587502798507781, 2.5938506818325355, 2.5690272333905075, 1.2569541623121598, 1.255637741611589, 1.2317271060975543, 1.2409544949034228, 1.2575683393339128, 1.269103207484149, 1.2781163672517015]\n"
     ]
    }
   ],
   "source": [
    "#We shall again deploy RandomForest Classifer to train and build our classification model based on training data set, evaluate our model based on \n",
    "#evaluation data, and test our model based on testing data  \n",
    "\n",
    "import numpy as np\n",
    "from sklearn.ensemble import RandomForestClassifier\n",
    "from sklearn.metrics import log_loss\n",
    "\n",
    "Trees = np.arange(10, 160, 10)\n",
    "maxfeatures = int(np.sqrt(x_train_df.shape[1]))\n",
    "Estimated = []\n",
    "for values in Trees:\n",
    "    rf = RandomForestClassifier(n_estimators = values,\n",
    "                                max_features = maxfeatures,\n",
    "                                max_depth = None,\n",
    "                                random_state = 0)\n",
    "    rf.fit(x_train_df, y_train_encoded_df)\n",
    "    y_eval_encoded_df_proba_hat = rf.predict_proba(x_eval_df)\n",
    "    scores = log_loss(y_eval_encoded_df, y_eval_encoded_df_proba_hat)\n",
    "    Estimated.append(scores)\n",
    "print(f\"{maxfeatures} features are allowed per random tree in our models\")\n",
    "print(Estimated)"
   ]
  },
  {
   "cell_type": "code",
   "execution_count": 23,
   "id": "2521f41d",
   "metadata": {},
   "outputs": [
    {
     "name": "stdout",
     "output_type": "stream",
     "text": [
      "10 5.180640948135611\n",
      "20 3.855138313883868\n",
      "30 3.8793119768077418\n",
      "40 3.9015849405683682\n",
      "50 2.5863592251893017\n",
      "60 2.587502798507781\n",
      "70 2.5938506818325355\n",
      "80 2.5690272333905075\n",
      "90 1.2569541623121598\n",
      "100 1.255637741611589\n",
      "110 1.2317271060975543\n",
      "120 1.2409544949034228\n",
      "130 1.2575683393339128\n",
      "140 1.269103207484149\n",
      "150 1.2781163672517015\n"
     ]
    }
   ],
   "source": [
    "#Just juxtaposing the R2scores with the respective number of estimators\n",
    "for i, scores in enumerate(Estimated):\n",
    "    print((i+1)*10, scores)\n",
    "#The models with 10 and 130 number of estimators are able to generate the highest scores "
   ]
  },
  {
   "cell_type": "code",
   "execution_count": 31,
   "id": "51d7ad31",
   "metadata": {},
   "outputs": [],
   "source": [
    "Estimated_ag_socio = pd.DataFrame(Estimated)\n",
    "Estimated_ag_socio.to_csv(\"Estimations_ag_socio.csv\")"
   ]
  },
  {
   "cell_type": "code",
   "execution_count": 24,
   "id": "190d4294",
   "metadata": {},
   "outputs": [
    {
     "data": {
      "image/png": "[encoded data removed]",
      "text/plain": [
       "<Figure size 640x480 with 1 Axes>"
      ]
     },
     "metadata": {},
     "output_type": "display_data"
    }
   ],
   "source": [
    "#Visual representation of score pattern\n",
    "import seaborn as sns\n",
    "import matplotlib.pyplot as plt\n",
    "\n",
    "fig, ax = plt.subplots()\n",
    "ax.plot(Trees,\n",
    "        Estimated,\n",
    "        marker = \"s\",\n",
    "        markersize = 5,\n",
    "        color = \"black\",\n",
    "        label = \"Log Loss\")\n",
    "\n",
    "ax.set_title(\"Observing the Log loss of the models with the given range of Estimators\",\n",
    "          fontweight = \"bold\")\n",
    "ax.set_xlabel(\"Number of Estimators/Trees\")\n",
    "ax.set_xticks(np.arange(10, 160, 10))\n",
    "ax.set_ylabel(\"Log loss\")\n",
    "plt.legend()\n",
    "plt.show()"
   ]
  },
  {
   "cell_type": "code",
   "execution_count": 25,
   "id": "8b3a49fa",
   "metadata": {},
   "outputs": [
    {
     "name": "stdout",
     "output_type": "stream",
     "text": [
      "1.9258886849757744\n"
     ]
    },
    {
     "name": "stderr",
     "output_type": "stream",
     "text": [
      "d:\\Anaconda_navigator\\envs\\RP_env\\Lib\\site-packages\\sklearn\\base.py:1389: DataConversionWarning: A column-vector y was passed when a 1d array was expected. Please change the shape of y to (n_samples,), for example using ravel().\n",
      "  return fit_method(estimator, *args, **kwargs)\n"
     ]
    }
   ],
   "source": [
    "#Testing the predictability of the model on test batch with the highest number of estimators that was also able to produce the highest R2 score\n",
    "import numpy as np\n",
    "from sklearn.ensemble import RandomForestClassifier\n",
    "\n",
    "rf = RandomForestClassifier(n_estimators= 110,\n",
    "                            max_features = maxfeatures,\n",
    "                            max_depth = None,\n",
    "                            random_state = 0)\n",
    "rf.fit(x_train_df, y_train_encoded_df)\n",
    "y_test_encoded_df_proba_hat = rf.predict_proba(x_test_df)\n",
    "print(log_loss(y_test_encoded_df, y_test_encoded_df_proba_hat))"
   ]
  },
  {
   "cell_type": "markdown",
   "id": "935841d8",
   "metadata": {},
   "source": [
    "#### Observation\n",
    "\n",
    "Our model obtains the Log loss of 1.9259, which is embarassingly higher than the baseline Log loss of 0.8722 assinged to the testing batch of the dataset given its unique classification characterstics. It is alike to noting that our model performs worse than a model that virtually learned nothing. \n",
    "\n",
    "Log loss > Baseline Log loss\n",
    "\n",
    "LL baseline =−∑(M, j=1) Pj log(Pj)\n",
    "\n",
    "LL baseline =−(P1 ln(P1) + P2 ln(P2) + P3 ln(P3))\n",
    "\n",
    "LL baseline= −(0.05714 × ln(0.05714) + 0.45714 × ln(0.45714) + 0.48571 × ln(0.48571))\n",
    "\n",
    "LL baseline =− ((0.05714 × −2.861) + (0.45714 × −0.783) + (0.48571 × −0.722))\n",
    "\n",
    "LL baseline =−(−0.1634 + −0.3580 + −0.3508)\n",
    "\n",
    "LL baseline =−(−0.8722)\n",
    "\n",
    "LL baseline ≈ 0.8722"
   ]
  },
  {
   "cell_type": "code",
   "execution_count": 26,
   "id": "fb131964",
   "metadata": {},
   "outputs": [
    {
     "data": {
      "text/plain": [
       "array([2, 2, 1, 2, 2, 2, 2, 2, 2])"
      ]
     },
     "execution_count": 26,
     "metadata": {},
     "output_type": "execute_result"
    }
   ],
   "source": [
    "y_test_encoded_df_hat = rf.predict(x_test_df)\n",
    "y_test_encoded_df_hat[0:9]"
   ]
  },
  {
   "cell_type": "code",
   "execution_count": 33,
   "id": "febbac03",
   "metadata": {},
   "outputs": [
    {
     "data": {
      "text/html": [
       "<div>\n",
       "<style scoped>\n",
       "    .dataframe tbody tr th:only-of-type {\n",
       "        vertical-align: middle;\n",
       "    }\n",
       "\n",
       "    .dataframe tbody tr th {\n",
       "        vertical-align: top;\n",
       "    }\n",
       "\n",
       "    .dataframe thead th {\n",
       "        text-align: right;\n",
       "    }\n",
       "</style>\n",
       "<table border=\"1\" class=\"dataframe\">\n",
       "  <thead>\n",
       "    <tr style=\"text-align: right;\">\n",
       "      <th></th>\n",
       "      <th>Features</th>\n",
       "      <th>Significance</th>\n",
       "    </tr>\n",
       "  </thead>\n",
       "  <tbody>\n",
       "    <tr>\n",
       "      <th>0</th>\n",
       "      <td>Age</td>\n",
       "      <td>0.431259</td>\n",
       "    </tr>\n",
       "    <tr>\n",
       "      <th>1</th>\n",
       "      <td>Number of Family members</td>\n",
       "      <td>0.326890</td>\n",
       "    </tr>\n",
       "    <tr>\n",
       "      <th>2</th>\n",
       "      <td>Sex_Male</td>\n",
       "      <td>0.096834</td>\n",
       "    </tr>\n",
       "    <tr>\n",
       "      <th>5</th>\n",
       "      <td>Proximity of farm to forest_Yes</td>\n",
       "      <td>0.066868</td>\n",
       "    </tr>\n",
       "    <tr>\n",
       "      <th>4</th>\n",
       "      <td>Educational Qualification_Unofficial Education</td>\n",
       "      <td>0.059191</td>\n",
       "    </tr>\n",
       "  </tbody>\n",
       "</table>\n",
       "</div>"
      ],
      "text/plain": [
       "                                         Features  Significance\n",
       "0                                             Age      0.431259\n",
       "1                        Number of Family members      0.326890\n",
       "2                                        Sex_Male      0.096834\n",
       "5                 Proximity of farm to forest_Yes      0.066868\n",
       "4  Educational Qualification_Unofficial Education      0.059191"
      ]
     },
     "execution_count": 33,
     "metadata": {},
     "output_type": "execute_result"
    }
   ],
   "source": [
    "#Lets retrieve the features that were most important in determining the model \n",
    "Feature_Importance = rf.feature_importances_\n",
    "Feature_Importance = pd.DataFrame(Feature_Importance)\n",
    "Feature_Importance = Feature_Importance.T\n",
    "Feature_Importance.columns = x_train_df.columns.to_list()\n",
    "Feature_Importance = Feature_Importance.T\n",
    "Feature_Importance.reset_index(inplace = True)\n",
    "\n",
    "Feature_Importance.columns = [\"Features\", \"Significance\"]\n",
    "Feature_Importance.sort_values(by = \"Significance\", ascending= False, inplace = True)\n",
    "Feature_Importance = Feature_Importance.head()\n",
    "Feature_Importance"
   ]
  },
  {
   "cell_type": "code",
   "execution_count": 29,
   "id": "88c51f6a",
   "metadata": {},
   "outputs": [
    {
     "data": {
      "text/plain": [
       "np.float64(0.9810416738263674)"
      ]
     },
     "execution_count": 29,
     "metadata": {},
     "output_type": "execute_result"
    }
   ],
   "source": [
    "#the weights of the feature sum to one as in one hundred percent\n",
    "Feature_Importance[\"Significance\"].sum()"
   ]
  },
  {
   "cell_type": "code",
   "execution_count": 34,
   "id": "5377bbed",
   "metadata": {},
   "outputs": [],
   "source": [
    "Feature_Importance.to_csv(\"Feature_imp_socio_demo.csv\")"
   ]
  },
  {
   "cell_type": "code",
   "execution_count": null,
   "id": "01ba9b7d",
   "metadata": {},
   "outputs": [
    {
     "data": {
      "image/png": "[encoded data removed]",
      "text/plain": [
       "<Figure size 640x480 with 1 Axes>"
      ]
     },
     "metadata": {},
     "output_type": "display_data"
    }
   ],
   "source": [
    "#Lets plot our Feature Significance table to see what feature and category played the top signficant role in determining our not-so-accurate\n",
    "# predicting model\n",
    "import matplotlib as mpl\n",
    "import matplotlib.pyplot as plt\n",
    "\n",
    "fig, ax = plt.subplots()\n",
    "ax.barh(Feature_Importance[\"Features\"], \n",
    "        Feature_Importance[\"Significance\"],\n",
    "        color = \"grey\",\n",
    "        edgecolor = \"black\")\n",
    "ax.set_title(\"Features that were most relevant in the model development\",\n",
    "             fontweight = \"black\")\n",
    "ax.set_xlabel(\"Features\",\n",
    "              fontweight = \"black\")\n",
    "ax.set_ylabel(\"Significance\",\n",
    "              fontweight = \"black\")\n",
    "ax.invert_yaxis()\n",
    "\n",
    "plt.show()\n",
    " "
   ]
  },
  {
   "cell_type": "code",
   "execution_count": 158,
   "id": "1ef08c8a",
   "metadata": {},
   "outputs": [
    {
     "data": {
      "text/html": [
       "<div>\n",
       "<style scoped>\n",
       "    .dataframe tbody tr th:only-of-type {\n",
       "        vertical-align: middle;\n",
       "    }\n",
       "\n",
       "    .dataframe tbody tr th {\n",
       "        vertical-align: top;\n",
       "    }\n",
       "\n",
       "    .dataframe thead th {\n",
       "        text-align: right;\n",
       "    }\n",
       "</style>\n",
       "<table border=\"1\" class=\"dataframe\">\n",
       "  <thead>\n",
       "    <tr style=\"text-align: right;\">\n",
       "      <th></th>\n",
       "      <th>0</th>\n",
       "    </tr>\n",
       "  </thead>\n",
       "  <tbody>\n",
       "    <tr>\n",
       "      <th>0</th>\n",
       "      <td>Planting of mix of hybrid and indigenous speci...</td>\n",
       "    </tr>\n",
       "    <tr>\n",
       "      <th>1</th>\n",
       "      <td>Planting of mix of hybrid and indigenous speci...</td>\n",
       "    </tr>\n",
       "    <tr>\n",
       "      <th>2</th>\n",
       "      <td>Planting of indigenous species of crops only</td>\n",
       "    </tr>\n",
       "    <tr>\n",
       "      <th>3</th>\n",
       "      <td>Planting of mix of hybrid and indigenous speci...</td>\n",
       "    </tr>\n",
       "    <tr>\n",
       "      <th>4</th>\n",
       "      <td>Planting of mix of hybrid and indigenous speci...</td>\n",
       "    </tr>\n",
       "  </tbody>\n",
       "</table>\n",
       "</div>"
      ],
      "text/plain": [
       "                                                   0\n",
       "0  Planting of mix of hybrid and indigenous speci...\n",
       "1  Planting of mix of hybrid and indigenous speci...\n",
       "2       Planting of indigenous species of crops only\n",
       "3  Planting of mix of hybrid and indigenous speci...\n",
       "4  Planting of mix of hybrid and indigenous speci..."
      ]
     },
     "execution_count": 158,
     "metadata": {},
     "output_type": "execute_result"
    }
   ],
   "source": [
    "#So lets prepare the classification report now, to check our precise, recall, and f1score\n",
    "y_test_unencoded_df_hat = label_encoder.inverse_transform(y_test_encoded_df_hat) #lets reverse transform our data for labelling purpose\n",
    "y_test_unencoded_df_hat = pd.DataFrame(y_test_unencoded_df_hat) \n",
    "y_test_unencoded_df_hat.head()"
   ]
  },
  {
   "cell_type": "code",
   "execution_count": 159,
   "id": "6eba85d9",
   "metadata": {},
   "outputs": [
    {
     "name": "stdout",
     "output_type": "stream",
     "text": [
      "                                                           precision    recall  f1-score   support\n",
      "\n",
      "                 Planting of hybrid species of crops only       0.00      0.00      0.00         2\n",
      "             Planting of indigenous species of crops only       0.50      0.44      0.47        16\n",
      "Planting of mix of hybrid and indigenous species of crops       0.52      0.65      0.58        17\n",
      "\n",
      "                                                 accuracy                           0.51        35\n",
      "                                                macro avg       0.34      0.36      0.35        35\n",
      "                                             weighted avg       0.48      0.51      0.49        35\n",
      "\n"
     ]
    },
    {
     "name": "stderr",
     "output_type": "stream",
     "text": [
      "d:\\Anaconda_navigator\\envs\\RP_env\\Lib\\site-packages\\sklearn\\metrics\\_classification.py:1565: UndefinedMetricWarning: Precision is ill-defined and being set to 0.0 in labels with no predicted samples. Use `zero_division` parameter to control this behavior.\n",
      "  _warn_prf(average, modifier, f\"{metric.capitalize()} is\", len(result))\n",
      "d:\\Anaconda_navigator\\envs\\RP_env\\Lib\\site-packages\\sklearn\\metrics\\_classification.py:1565: UndefinedMetricWarning: Precision is ill-defined and being set to 0.0 in labels with no predicted samples. Use `zero_division` parameter to control this behavior.\n",
      "  _warn_prf(average, modifier, f\"{metric.capitalize()} is\", len(result))\n",
      "d:\\Anaconda_navigator\\envs\\RP_env\\Lib\\site-packages\\sklearn\\metrics\\_classification.py:1565: UndefinedMetricWarning: Precision is ill-defined and being set to 0.0 in labels with no predicted samples. Use `zero_division` parameter to control this behavior.\n",
      "  _warn_prf(average, modifier, f\"{metric.capitalize()} is\", len(result))\n"
     ]
    }
   ],
   "source": [
    "from sklearn.metrics import classification_report\n",
    "print(classification_report(y_test_df, y_test_unencoded_df_hat))"
   ]
  },
  {
   "cell_type": "code",
   "execution_count": 160,
   "id": "0e9be92e",
   "metadata": {},
   "outputs": [],
   "source": [
    "y_test_df = pd.DataFrame(y_test_df)\n",
    "y_test_df.set_index(\"Crop Choice\", inplace = True)\n",
    "y_test_df.reset_index(inplace = True)"
   ]
  },
  {
   "cell_type": "code",
   "execution_count": 164,
   "id": "d9fef493",
   "metadata": {},
   "outputs": [],
   "source": [
    "#This is in case if we want to create a table of probability scores and how it performed against the actual classifications. And also check the \n",
    "# probability scores that were confidently wrong and sufferred heavy penalty in the log_loss test \n",
    "\n",
    "probability_score = pd.DataFrame(y_test_encoded_df_proba_hat)\n",
    "probability_score.columns = [label_encoder.classes_]\n",
    "probability_score = pd.concat([probability_score, y_test_df], axis = 1)\n",
    "probability_score.head()\n",
    "probability_score.to_csv(\"log_loss example.csv\")"
   ]
  },
  {
   "cell_type": "code",
   "execution_count": 162,
   "id": "19d3b442",
   "metadata": {},
   "outputs": [
    {
     "data": {
      "image/png": "[encoded data removed]",
      "text/plain": [
       "<Figure size 640x480 with 2 Axes>"
      ]
     },
     "metadata": {},
     "output_type": "display_data"
    }
   ],
   "source": [
    "#Now observing the accuracy of the classifiction through heuretics method called confusion matrix\n",
    "from sklearn.metrics import confusion_matrix\n",
    "import matplotlib.pyplot as plt\n",
    "conf_matrx = confusion_matrix(y_test_df, y_test_unencoded_df_hat)\n",
    "\n",
    "fig, ax= plt.subplots()\n",
    "sns.heatmap(conf_matrx, \n",
    "            annot = True,\n",
    "            cmap = \"Blues\",\n",
    "            xticklabels = label_encoder.classes_,\n",
    "            yticklabels = label_encoder.classes_,\n",
    "            ax=ax)\n",
    "\n",
    "ax.set_title(\"Confusion matrix for Crop Choice\",\n",
    "          fontsize = 12,\n",
    "          fontweight = \"bold\")\n",
    "ax.set_xlabel(\"Predicted crop choice\",\n",
    "              fontweight = \"bold\")\n",
    "ax.set_ylabel(\"Actual crop choice\",\n",
    "              fontweight = \"bold\")\n",
    "\n",
    "xticklabels = ax.get_xticklabels()\n",
    "for labels in xticklabels:\n",
    "    labels.set_wrap(True)\n",
    "    labels.set_fontsize(8)\n",
    "    labels.set_ha(\"right\")\n",
    "    labels.set_va(\"center\")\n",
    "\n",
    "yticklabels = ax.get_yticklabels()\n",
    "for labels in yticklabels:\n",
    "    labels.set_wrap(True)\n",
    "    labels.set_fontsize(8)\n",
    "    labels.set_ha(\"right\")\n",
    "    labels.set_va(\"center\")\n",
    "    \n",
    "plt.tight_layout()\n",
    "plt.show()"
   ]
  },
  {
   "cell_type": "markdown",
   "id": "79de223b",
   "metadata": {},
   "source": [
    "#### Extreme Gradient Boosting (Optional)"
   ]
  },
  {
   "cell_type": "code",
   "execution_count": 152,
   "id": "4c8f1621",
   "metadata": {},
   "outputs": [
    {
     "name": "stderr",
     "output_type": "stream",
     "text": [
      "d:\\Anaconda_navigator\\envs\\RP_env\\Lib\\site-packages\\xgboost\\core.py:726: FutureWarning: Pass `objective` as keyword args.\n",
      "  warnings.warn(msg, FutureWarning)\n",
      "d:\\Anaconda_navigator\\envs\\RP_env\\Lib\\site-packages\\xgboost\\core.py:726: FutureWarning: Pass `objective` as keyword args.\n",
      "  warnings.warn(msg, FutureWarning)\n",
      "d:\\Anaconda_navigator\\envs\\RP_env\\Lib\\site-packages\\xgboost\\core.py:726: FutureWarning: Pass `objective` as keyword args.\n",
      "  warnings.warn(msg, FutureWarning)\n",
      "d:\\Anaconda_navigator\\envs\\RP_env\\Lib\\site-packages\\xgboost\\core.py:726: FutureWarning: Pass `objective` as keyword args.\n",
      "  warnings.warn(msg, FutureWarning)\n",
      "d:\\Anaconda_navigator\\envs\\RP_env\\Lib\\site-packages\\xgboost\\core.py:726: FutureWarning: Pass `objective` as keyword args.\n",
      "  warnings.warn(msg, FutureWarning)\n",
      "d:\\Anaconda_navigator\\envs\\RP_env\\Lib\\site-packages\\xgboost\\core.py:726: FutureWarning: Pass `objective` as keyword args.\n",
      "  warnings.warn(msg, FutureWarning)\n",
      "d:\\Anaconda_navigator\\envs\\RP_env\\Lib\\site-packages\\xgboost\\core.py:726: FutureWarning: Pass `objective` as keyword args.\n",
      "  warnings.warn(msg, FutureWarning)\n",
      "d:\\Anaconda_navigator\\envs\\RP_env\\Lib\\site-packages\\xgboost\\core.py:726: FutureWarning: Pass `objective` as keyword args.\n",
      "  warnings.warn(msg, FutureWarning)\n",
      "d:\\Anaconda_navigator\\envs\\RP_env\\Lib\\site-packages\\xgboost\\core.py:726: FutureWarning: Pass `objective` as keyword args.\n",
      "  warnings.warn(msg, FutureWarning)\n",
      "d:\\Anaconda_navigator\\envs\\RP_env\\Lib\\site-packages\\xgboost\\core.py:726: FutureWarning: Pass `objective` as keyword args.\n",
      "  warnings.warn(msg, FutureWarning)\n",
      "d:\\Anaconda_navigator\\envs\\RP_env\\Lib\\site-packages\\xgboost\\core.py:726: FutureWarning: Pass `objective` as keyword args.\n",
      "  warnings.warn(msg, FutureWarning)\n",
      "d:\\Anaconda_navigator\\envs\\RP_env\\Lib\\site-packages\\xgboost\\core.py:726: FutureWarning: Pass `objective` as keyword args.\n",
      "  warnings.warn(msg, FutureWarning)\n",
      "d:\\Anaconda_navigator\\envs\\RP_env\\Lib\\site-packages\\xgboost\\core.py:726: FutureWarning: Pass `objective` as keyword args.\n",
      "  warnings.warn(msg, FutureWarning)\n",
      "d:\\Anaconda_navigator\\envs\\RP_env\\Lib\\site-packages\\xgboost\\core.py:726: FutureWarning: Pass `objective` as keyword args.\n",
      "  warnings.warn(msg, FutureWarning)\n",
      "d:\\Anaconda_navigator\\envs\\RP_env\\Lib\\site-packages\\xgboost\\core.py:726: FutureWarning: Pass `objective` as keyword args.\n",
      "  warnings.warn(msg, FutureWarning)\n",
      "d:\\Anaconda_navigator\\envs\\RP_env\\Lib\\site-packages\\xgboost\\core.py:726: FutureWarning: Pass `objective` as keyword args.\n",
      "  warnings.warn(msg, FutureWarning)\n",
      "d:\\Anaconda_navigator\\envs\\RP_env\\Lib\\site-packages\\xgboost\\core.py:726: FutureWarning: Pass `objective` as keyword args.\n",
      "  warnings.warn(msg, FutureWarning)\n",
      "d:\\Anaconda_navigator\\envs\\RP_env\\Lib\\site-packages\\xgboost\\core.py:726: FutureWarning: Pass `objective` as keyword args.\n",
      "  warnings.warn(msg, FutureWarning)\n",
      "d:\\Anaconda_navigator\\envs\\RP_env\\Lib\\site-packages\\xgboost\\core.py:726: FutureWarning: Pass `objective` as keyword args.\n",
      "  warnings.warn(msg, FutureWarning)\n",
      "d:\\Anaconda_navigator\\envs\\RP_env\\Lib\\site-packages\\xgboost\\core.py:726: FutureWarning: Pass `objective` as keyword args.\n",
      "  warnings.warn(msg, FutureWarning)\n",
      "d:\\Anaconda_navigator\\envs\\RP_env\\Lib\\site-packages\\xgboost\\core.py:726: FutureWarning: Pass `objective` as keyword args.\n",
      "  warnings.warn(msg, FutureWarning)\n",
      "d:\\Anaconda_navigator\\envs\\RP_env\\Lib\\site-packages\\xgboost\\core.py:726: FutureWarning: Pass `objective` as keyword args.\n",
      "  warnings.warn(msg, FutureWarning)\n",
      "d:\\Anaconda_navigator\\envs\\RP_env\\Lib\\site-packages\\xgboost\\core.py:726: FutureWarning: Pass `objective` as keyword args.\n",
      "  warnings.warn(msg, FutureWarning)\n",
      "d:\\Anaconda_navigator\\envs\\RP_env\\Lib\\site-packages\\xgboost\\core.py:726: FutureWarning: Pass `objective` as keyword args.\n",
      "  warnings.warn(msg, FutureWarning)\n",
      "d:\\Anaconda_navigator\\envs\\RP_env\\Lib\\site-packages\\xgboost\\core.py:726: FutureWarning: Pass `objective` as keyword args.\n",
      "  warnings.warn(msg, FutureWarning)\n",
      "d:\\Anaconda_navigator\\envs\\RP_env\\Lib\\site-packages\\xgboost\\core.py:726: FutureWarning: Pass `objective` as keyword args.\n",
      "  warnings.warn(msg, FutureWarning)\n",
      "d:\\Anaconda_navigator\\envs\\RP_env\\Lib\\site-packages\\xgboost\\core.py:726: FutureWarning: Pass `objective` as keyword args.\n",
      "  warnings.warn(msg, FutureWarning)\n",
      "d:\\Anaconda_navigator\\envs\\RP_env\\Lib\\site-packages\\xgboost\\core.py:726: FutureWarning: Pass `objective` as keyword args.\n",
      "  warnings.warn(msg, FutureWarning)\n",
      "d:\\Anaconda_navigator\\envs\\RP_env\\Lib\\site-packages\\xgboost\\core.py:726: FutureWarning: Pass `objective` as keyword args.\n",
      "  warnings.warn(msg, FutureWarning)\n",
      "d:\\Anaconda_navigator\\envs\\RP_env\\Lib\\site-packages\\xgboost\\core.py:726: FutureWarning: Pass `objective` as keyword args.\n",
      "  warnings.warn(msg, FutureWarning)\n",
      "d:\\Anaconda_navigator\\envs\\RP_env\\Lib\\site-packages\\xgboost\\core.py:726: FutureWarning: Pass `objective` as keyword args.\n",
      "  warnings.warn(msg, FutureWarning)\n",
      "d:\\Anaconda_navigator\\envs\\RP_env\\Lib\\site-packages\\xgboost\\core.py:726: FutureWarning: Pass `objective` as keyword args.\n",
      "  warnings.warn(msg, FutureWarning)\n",
      "d:\\Anaconda_navigator\\envs\\RP_env\\Lib\\site-packages\\xgboost\\core.py:726: FutureWarning: Pass `objective` as keyword args.\n",
      "  warnings.warn(msg, FutureWarning)\n",
      "d:\\Anaconda_navigator\\envs\\RP_env\\Lib\\site-packages\\xgboost\\core.py:726: FutureWarning: Pass `objective` as keyword args.\n",
      "  warnings.warn(msg, FutureWarning)\n",
      "d:\\Anaconda_navigator\\envs\\RP_env\\Lib\\site-packages\\xgboost\\core.py:726: FutureWarning: Pass `objective` as keyword args.\n",
      "  warnings.warn(msg, FutureWarning)\n",
      "d:\\Anaconda_navigator\\envs\\RP_env\\Lib\\site-packages\\xgboost\\core.py:726: FutureWarning: Pass `objective` as keyword args.\n",
      "  warnings.warn(msg, FutureWarning)\n",
      "d:\\Anaconda_navigator\\envs\\RP_env\\Lib\\site-packages\\xgboost\\core.py:726: FutureWarning: Pass `objective` as keyword args.\n",
      "  warnings.warn(msg, FutureWarning)\n",
      "d:\\Anaconda_navigator\\envs\\RP_env\\Lib\\site-packages\\xgboost\\core.py:726: FutureWarning: Pass `objective` as keyword args.\n",
      "  warnings.warn(msg, FutureWarning)\n",
      "d:\\Anaconda_navigator\\envs\\RP_env\\Lib\\site-packages\\xgboost\\core.py:726: FutureWarning: Pass `objective` as keyword args.\n",
      "  warnings.warn(msg, FutureWarning)\n",
      "d:\\Anaconda_navigator\\envs\\RP_env\\Lib\\site-packages\\xgboost\\core.py:726: FutureWarning: Pass `objective` as keyword args.\n",
      "  warnings.warn(msg, FutureWarning)\n",
      "d:\\Anaconda_navigator\\envs\\RP_env\\Lib\\site-packages\\xgboost\\core.py:726: FutureWarning: Pass `objective` as keyword args.\n",
      "  warnings.warn(msg, FutureWarning)\n",
      "d:\\Anaconda_navigator\\envs\\RP_env\\Lib\\site-packages\\xgboost\\core.py:726: FutureWarning: Pass `objective` as keyword args.\n",
      "  warnings.warn(msg, FutureWarning)\n",
      "d:\\Anaconda_navigator\\envs\\RP_env\\Lib\\site-packages\\xgboost\\core.py:726: FutureWarning: Pass `objective` as keyword args.\n",
      "  warnings.warn(msg, FutureWarning)\n",
      "d:\\Anaconda_navigator\\envs\\RP_env\\Lib\\site-packages\\xgboost\\core.py:726: FutureWarning: Pass `objective` as keyword args.\n",
      "  warnings.warn(msg, FutureWarning)\n",
      "d:\\Anaconda_navigator\\envs\\RP_env\\Lib\\site-packages\\xgboost\\core.py:726: FutureWarning: Pass `objective` as keyword args.\n",
      "  warnings.warn(msg, FutureWarning)\n",
      "d:\\Anaconda_navigator\\envs\\RP_env\\Lib\\site-packages\\xgboost\\core.py:726: FutureWarning: Pass `objective` as keyword args.\n",
      "  warnings.warn(msg, FutureWarning)\n",
      "d:\\Anaconda_navigator\\envs\\RP_env\\Lib\\site-packages\\xgboost\\core.py:726: FutureWarning: Pass `objective` as keyword args.\n",
      "  warnings.warn(msg, FutureWarning)\n",
      "d:\\Anaconda_navigator\\envs\\RP_env\\Lib\\site-packages\\xgboost\\core.py:726: FutureWarning: Pass `objective` as keyword args.\n",
      "  warnings.warn(msg, FutureWarning)\n",
      "d:\\Anaconda_navigator\\envs\\RP_env\\Lib\\site-packages\\xgboost\\core.py:726: FutureWarning: Pass `objective` as keyword args.\n",
      "  warnings.warn(msg, FutureWarning)\n",
      "d:\\Anaconda_navigator\\envs\\RP_env\\Lib\\site-packages\\xgboost\\core.py:726: FutureWarning: Pass `objective` as keyword args.\n",
      "  warnings.warn(msg, FutureWarning)\n",
      "d:\\Anaconda_navigator\\envs\\RP_env\\Lib\\site-packages\\xgboost\\core.py:726: FutureWarning: Pass `objective` as keyword args.\n",
      "  warnings.warn(msg, FutureWarning)\n",
      "d:\\Anaconda_navigator\\envs\\RP_env\\Lib\\site-packages\\xgboost\\core.py:726: FutureWarning: Pass `objective` as keyword args.\n",
      "  warnings.warn(msg, FutureWarning)\n",
      "d:\\Anaconda_navigator\\envs\\RP_env\\Lib\\site-packages\\xgboost\\core.py:726: FutureWarning: Pass `objective` as keyword args.\n",
      "  warnings.warn(msg, FutureWarning)\n",
      "d:\\Anaconda_navigator\\envs\\RP_env\\Lib\\site-packages\\xgboost\\core.py:726: FutureWarning: Pass `objective` as keyword args.\n",
      "  warnings.warn(msg, FutureWarning)\n",
      "d:\\Anaconda_navigator\\envs\\RP_env\\Lib\\site-packages\\xgboost\\core.py:726: FutureWarning: Pass `objective` as keyword args.\n",
      "  warnings.warn(msg, FutureWarning)\n",
      "d:\\Anaconda_navigator\\envs\\RP_env\\Lib\\site-packages\\xgboost\\core.py:726: FutureWarning: Pass `objective` as keyword args.\n",
      "  warnings.warn(msg, FutureWarning)\n",
      "d:\\Anaconda_navigator\\envs\\RP_env\\Lib\\site-packages\\xgboost\\core.py:726: FutureWarning: Pass `objective` as keyword args.\n",
      "  warnings.warn(msg, FutureWarning)\n",
      "d:\\Anaconda_navigator\\envs\\RP_env\\Lib\\site-packages\\xgboost\\core.py:726: FutureWarning: Pass `objective` as keyword args.\n",
      "  warnings.warn(msg, FutureWarning)\n",
      "d:\\Anaconda_navigator\\envs\\RP_env\\Lib\\site-packages\\xgboost\\core.py:726: FutureWarning: Pass `objective` as keyword args.\n",
      "  warnings.warn(msg, FutureWarning)\n",
      "d:\\Anaconda_navigator\\envs\\RP_env\\Lib\\site-packages\\xgboost\\core.py:726: FutureWarning: Pass `objective` as keyword args.\n",
      "  warnings.warn(msg, FutureWarning)\n",
      "d:\\Anaconda_navigator\\envs\\RP_env\\Lib\\site-packages\\xgboost\\core.py:726: FutureWarning: Pass `objective` as keyword args.\n",
      "  warnings.warn(msg, FutureWarning)\n",
      "d:\\Anaconda_navigator\\envs\\RP_env\\Lib\\site-packages\\xgboost\\core.py:726: FutureWarning: Pass `objective` as keyword args.\n",
      "  warnings.warn(msg, FutureWarning)\n",
      "d:\\Anaconda_navigator\\envs\\RP_env\\Lib\\site-packages\\xgboost\\core.py:726: FutureWarning: Pass `objective` as keyword args.\n",
      "  warnings.warn(msg, FutureWarning)\n",
      "d:\\Anaconda_navigator\\envs\\RP_env\\Lib\\site-packages\\xgboost\\core.py:726: FutureWarning: Pass `objective` as keyword args.\n",
      "  warnings.warn(msg, FutureWarning)\n",
      "d:\\Anaconda_navigator\\envs\\RP_env\\Lib\\site-packages\\xgboost\\core.py:726: FutureWarning: Pass `objective` as keyword args.\n",
      "  warnings.warn(msg, FutureWarning)\n",
      "d:\\Anaconda_navigator\\envs\\RP_env\\Lib\\site-packages\\xgboost\\core.py:726: FutureWarning: Pass `objective` as keyword args.\n",
      "  warnings.warn(msg, FutureWarning)\n",
      "d:\\Anaconda_navigator\\envs\\RP_env\\Lib\\site-packages\\xgboost\\core.py:726: FutureWarning: Pass `objective` as keyword args.\n",
      "  warnings.warn(msg, FutureWarning)\n",
      "d:\\Anaconda_navigator\\envs\\RP_env\\Lib\\site-packages\\xgboost\\core.py:726: FutureWarning: Pass `objective` as keyword args.\n",
      "  warnings.warn(msg, FutureWarning)\n",
      "d:\\Anaconda_navigator\\envs\\RP_env\\Lib\\site-packages\\xgboost\\core.py:726: FutureWarning: Pass `objective` as keyword args.\n",
      "  warnings.warn(msg, FutureWarning)\n",
      "d:\\Anaconda_navigator\\envs\\RP_env\\Lib\\site-packages\\xgboost\\core.py:726: FutureWarning: Pass `objective` as keyword args.\n",
      "  warnings.warn(msg, FutureWarning)\n",
      "d:\\Anaconda_navigator\\envs\\RP_env\\Lib\\site-packages\\xgboost\\core.py:726: FutureWarning: Pass `objective` as keyword args.\n",
      "  warnings.warn(msg, FutureWarning)\n",
      "d:\\Anaconda_navigator\\envs\\RP_env\\Lib\\site-packages\\xgboost\\core.py:726: FutureWarning: Pass `objective` as keyword args.\n",
      "  warnings.warn(msg, FutureWarning)\n",
      "d:\\Anaconda_navigator\\envs\\RP_env\\Lib\\site-packages\\xgboost\\core.py:726: FutureWarning: Pass `objective` as keyword args.\n",
      "  warnings.warn(msg, FutureWarning)\n",
      "d:\\Anaconda_navigator\\envs\\RP_env\\Lib\\site-packages\\xgboost\\core.py:726: FutureWarning: Pass `objective` as keyword args.\n",
      "  warnings.warn(msg, FutureWarning)\n",
      "d:\\Anaconda_navigator\\envs\\RP_env\\Lib\\site-packages\\xgboost\\core.py:726: FutureWarning: Pass `objective` as keyword args.\n",
      "  warnings.warn(msg, FutureWarning)\n",
      "d:\\Anaconda_navigator\\envs\\RP_env\\Lib\\site-packages\\xgboost\\core.py:726: FutureWarning: Pass `objective` as keyword args.\n",
      "  warnings.warn(msg, FutureWarning)\n",
      "d:\\Anaconda_navigator\\envs\\RP_env\\Lib\\site-packages\\xgboost\\core.py:726: FutureWarning: Pass `objective` as keyword args.\n",
      "  warnings.warn(msg, FutureWarning)\n",
      "d:\\Anaconda_navigator\\envs\\RP_env\\Lib\\site-packages\\xgboost\\core.py:726: FutureWarning: Pass `objective` as keyword args.\n",
      "  warnings.warn(msg, FutureWarning)\n",
      "d:\\Anaconda_navigator\\envs\\RP_env\\Lib\\site-packages\\xgboost\\core.py:726: FutureWarning: Pass `objective` as keyword args.\n",
      "  warnings.warn(msg, FutureWarning)\n",
      "d:\\Anaconda_navigator\\envs\\RP_env\\Lib\\site-packages\\xgboost\\core.py:726: FutureWarning: Pass `objective` as keyword args.\n",
      "  warnings.warn(msg, FutureWarning)\n",
      "d:\\Anaconda_navigator\\envs\\RP_env\\Lib\\site-packages\\xgboost\\core.py:726: FutureWarning: Pass `objective` as keyword args.\n",
      "  warnings.warn(msg, FutureWarning)\n",
      "d:\\Anaconda_navigator\\envs\\RP_env\\Lib\\site-packages\\xgboost\\core.py:726: FutureWarning: Pass `objective` as keyword args.\n",
      "  warnings.warn(msg, FutureWarning)\n",
      "d:\\Anaconda_navigator\\envs\\RP_env\\Lib\\site-packages\\xgboost\\core.py:726: FutureWarning: Pass `objective` as keyword args.\n",
      "  warnings.warn(msg, FutureWarning)\n",
      "d:\\Anaconda_navigator\\envs\\RP_env\\Lib\\site-packages\\xgboost\\core.py:726: FutureWarning: Pass `objective` as keyword args.\n",
      "  warnings.warn(msg, FutureWarning)\n",
      "d:\\Anaconda_navigator\\envs\\RP_env\\Lib\\site-packages\\xgboost\\core.py:726: FutureWarning: Pass `objective` as keyword args.\n",
      "  warnings.warn(msg, FutureWarning)\n",
      "d:\\Anaconda_navigator\\envs\\RP_env\\Lib\\site-packages\\xgboost\\core.py:726: FutureWarning: Pass `objective` as keyword args.\n",
      "  warnings.warn(msg, FutureWarning)\n",
      "d:\\Anaconda_navigator\\envs\\RP_env\\Lib\\site-packages\\xgboost\\core.py:726: FutureWarning: Pass `objective` as keyword args.\n",
      "  warnings.warn(msg, FutureWarning)\n",
      "d:\\Anaconda_navigator\\envs\\RP_env\\Lib\\site-packages\\xgboost\\core.py:726: FutureWarning: Pass `objective` as keyword args.\n",
      "  warnings.warn(msg, FutureWarning)\n",
      "d:\\Anaconda_navigator\\envs\\RP_env\\Lib\\site-packages\\xgboost\\core.py:726: FutureWarning: Pass `objective` as keyword args.\n",
      "  warnings.warn(msg, FutureWarning)\n",
      "d:\\Anaconda_navigator\\envs\\RP_env\\Lib\\site-packages\\xgboost\\core.py:726: FutureWarning: Pass `objective` as keyword args.\n",
      "  warnings.warn(msg, FutureWarning)\n",
      "d:\\Anaconda_navigator\\envs\\RP_env\\Lib\\site-packages\\xgboost\\core.py:726: FutureWarning: Pass `objective` as keyword args.\n",
      "  warnings.warn(msg, FutureWarning)\n",
      "d:\\Anaconda_navigator\\envs\\RP_env\\Lib\\site-packages\\xgboost\\core.py:726: FutureWarning: Pass `objective` as keyword args.\n",
      "  warnings.warn(msg, FutureWarning)\n",
      "d:\\Anaconda_navigator\\envs\\RP_env\\Lib\\site-packages\\xgboost\\core.py:726: FutureWarning: Pass `objective` as keyword args.\n",
      "  warnings.warn(msg, FutureWarning)\n",
      "d:\\Anaconda_navigator\\envs\\RP_env\\Lib\\site-packages\\xgboost\\core.py:726: FutureWarning: Pass `objective` as keyword args.\n",
      "  warnings.warn(msg, FutureWarning)\n",
      "d:\\Anaconda_navigator\\envs\\RP_env\\Lib\\site-packages\\xgboost\\core.py:726: FutureWarning: Pass `objective` as keyword args.\n",
      "  warnings.warn(msg, FutureWarning)\n",
      "d:\\Anaconda_navigator\\envs\\RP_env\\Lib\\site-packages\\xgboost\\core.py:726: FutureWarning: Pass `objective` as keyword args.\n",
      "  warnings.warn(msg, FutureWarning)\n",
      "d:\\Anaconda_navigator\\envs\\RP_env\\Lib\\site-packages\\xgboost\\core.py:726: FutureWarning: Pass `objective` as keyword args.\n",
      "  warnings.warn(msg, FutureWarning)\n",
      "d:\\Anaconda_navigator\\envs\\RP_env\\Lib\\site-packages\\xgboost\\core.py:726: FutureWarning: Pass `objective` as keyword args.\n",
      "  warnings.warn(msg, FutureWarning)\n",
      "d:\\Anaconda_navigator\\envs\\RP_env\\Lib\\site-packages\\xgboost\\core.py:726: FutureWarning: Pass `objective` as keyword args.\n",
      "  warnings.warn(msg, FutureWarning)\n",
      "d:\\Anaconda_navigator\\envs\\RP_env\\Lib\\site-packages\\xgboost\\core.py:726: FutureWarning: Pass `objective` as keyword args.\n",
      "  warnings.warn(msg, FutureWarning)\n",
      "d:\\Anaconda_navigator\\envs\\RP_env\\Lib\\site-packages\\xgboost\\core.py:726: FutureWarning: Pass `objective` as keyword args.\n",
      "  warnings.warn(msg, FutureWarning)\n",
      "d:\\Anaconda_navigator\\envs\\RP_env\\Lib\\site-packages\\xgboost\\core.py:726: FutureWarning: Pass `objective` as keyword args.\n",
      "  warnings.warn(msg, FutureWarning)\n",
      "d:\\Anaconda_navigator\\envs\\RP_env\\Lib\\site-packages\\xgboost\\core.py:726: FutureWarning: Pass `objective` as keyword args.\n",
      "  warnings.warn(msg, FutureWarning)\n",
      "d:\\Anaconda_navigator\\envs\\RP_env\\Lib\\site-packages\\xgboost\\core.py:726: FutureWarning: Pass `objective` as keyword args.\n",
      "  warnings.warn(msg, FutureWarning)\n",
      "d:\\Anaconda_navigator\\envs\\RP_env\\Lib\\site-packages\\xgboost\\core.py:726: FutureWarning: Pass `objective` as keyword args.\n",
      "  warnings.warn(msg, FutureWarning)\n",
      "d:\\Anaconda_navigator\\envs\\RP_env\\Lib\\site-packages\\xgboost\\core.py:726: FutureWarning: Pass `objective` as keyword args.\n",
      "  warnings.warn(msg, FutureWarning)\n",
      "d:\\Anaconda_navigator\\envs\\RP_env\\Lib\\site-packages\\xgboost\\core.py:726: FutureWarning: Pass `objective` as keyword args.\n",
      "  warnings.warn(msg, FutureWarning)\n",
      "d:\\Anaconda_navigator\\envs\\RP_env\\Lib\\site-packages\\xgboost\\core.py:726: FutureWarning: Pass `objective` as keyword args.\n",
      "  warnings.warn(msg, FutureWarning)\n",
      "d:\\Anaconda_navigator\\envs\\RP_env\\Lib\\site-packages\\xgboost\\core.py:726: FutureWarning: Pass `objective` as keyword args.\n",
      "  warnings.warn(msg, FutureWarning)\n",
      "d:\\Anaconda_navigator\\envs\\RP_env\\Lib\\site-packages\\xgboost\\core.py:726: FutureWarning: Pass `objective` as keyword args.\n",
      "  warnings.warn(msg, FutureWarning)\n",
      "d:\\Anaconda_navigator\\envs\\RP_env\\Lib\\site-packages\\xgboost\\core.py:726: FutureWarning: Pass `objective` as keyword args.\n",
      "  warnings.warn(msg, FutureWarning)\n",
      "d:\\Anaconda_navigator\\envs\\RP_env\\Lib\\site-packages\\xgboost\\core.py:726: FutureWarning: Pass `objective` as keyword args.\n",
      "  warnings.warn(msg, FutureWarning)\n",
      "d:\\Anaconda_navigator\\envs\\RP_env\\Lib\\site-packages\\xgboost\\core.py:726: FutureWarning: Pass `objective` as keyword args.\n",
      "  warnings.warn(msg, FutureWarning)\n",
      "d:\\Anaconda_navigator\\envs\\RP_env\\Lib\\site-packages\\xgboost\\core.py:726: FutureWarning: Pass `objective` as keyword args.\n",
      "  warnings.warn(msg, FutureWarning)\n",
      "d:\\Anaconda_navigator\\envs\\RP_env\\Lib\\site-packages\\xgboost\\core.py:726: FutureWarning: Pass `objective` as keyword args.\n",
      "  warnings.warn(msg, FutureWarning)\n",
      "d:\\Anaconda_navigator\\envs\\RP_env\\Lib\\site-packages\\xgboost\\core.py:726: FutureWarning: Pass `objective` as keyword args.\n",
      "  warnings.warn(msg, FutureWarning)\n",
      "d:\\Anaconda_navigator\\envs\\RP_env\\Lib\\site-packages\\xgboost\\core.py:726: FutureWarning: Pass `objective` as keyword args.\n",
      "  warnings.warn(msg, FutureWarning)\n",
      "d:\\Anaconda_navigator\\envs\\RP_env\\Lib\\site-packages\\xgboost\\core.py:726: FutureWarning: Pass `objective` as keyword args.\n",
      "  warnings.warn(msg, FutureWarning)\n",
      "d:\\Anaconda_navigator\\envs\\RP_env\\Lib\\site-packages\\xgboost\\core.py:726: FutureWarning: Pass `objective` as keyword args.\n",
      "  warnings.warn(msg, FutureWarning)\n",
      "d:\\Anaconda_navigator\\envs\\RP_env\\Lib\\site-packages\\xgboost\\core.py:726: FutureWarning: Pass `objective` as keyword args.\n",
      "  warnings.warn(msg, FutureWarning)\n",
      "d:\\Anaconda_navigator\\envs\\RP_env\\Lib\\site-packages\\xgboost\\core.py:726: FutureWarning: Pass `objective` as keyword args.\n",
      "  warnings.warn(msg, FutureWarning)\n",
      "d:\\Anaconda_navigator\\envs\\RP_env\\Lib\\site-packages\\xgboost\\core.py:726: FutureWarning: Pass `objective` as keyword args.\n",
      "  warnings.warn(msg, FutureWarning)\n",
      "d:\\Anaconda_navigator\\envs\\RP_env\\Lib\\site-packages\\xgboost\\core.py:726: FutureWarning: Pass `objective` as keyword args.\n",
      "  warnings.warn(msg, FutureWarning)\n",
      "d:\\Anaconda_navigator\\envs\\RP_env\\Lib\\site-packages\\xgboost\\core.py:726: FutureWarning: Pass `objective` as keyword args.\n",
      "  warnings.warn(msg, FutureWarning)\n",
      "d:\\Anaconda_navigator\\envs\\RP_env\\Lib\\site-packages\\xgboost\\core.py:726: FutureWarning: Pass `objective` as keyword args.\n",
      "  warnings.warn(msg, FutureWarning)\n",
      "d:\\Anaconda_navigator\\envs\\RP_env\\Lib\\site-packages\\xgboost\\core.py:726: FutureWarning: Pass `objective` as keyword args.\n",
      "  warnings.warn(msg, FutureWarning)\n",
      "d:\\Anaconda_navigator\\envs\\RP_env\\Lib\\site-packages\\xgboost\\core.py:726: FutureWarning: Pass `objective` as keyword args.\n",
      "  warnings.warn(msg, FutureWarning)\n",
      "d:\\Anaconda_navigator\\envs\\RP_env\\Lib\\site-packages\\xgboost\\core.py:726: FutureWarning: Pass `objective` as keyword args.\n",
      "  warnings.warn(msg, FutureWarning)\n",
      "d:\\Anaconda_navigator\\envs\\RP_env\\Lib\\site-packages\\xgboost\\core.py:726: FutureWarning: Pass `objective` as keyword args.\n",
      "  warnings.warn(msg, FutureWarning)\n",
      "d:\\Anaconda_navigator\\envs\\RP_env\\Lib\\site-packages\\xgboost\\core.py:726: FutureWarning: Pass `objective` as keyword args.\n",
      "  warnings.warn(msg, FutureWarning)\n",
      "d:\\Anaconda_navigator\\envs\\RP_env\\Lib\\site-packages\\xgboost\\core.py:726: FutureWarning: Pass `objective` as keyword args.\n",
      "  warnings.warn(msg, FutureWarning)\n",
      "d:\\Anaconda_navigator\\envs\\RP_env\\Lib\\site-packages\\xgboost\\core.py:726: FutureWarning: Pass `objective` as keyword args.\n",
      "  warnings.warn(msg, FutureWarning)\n",
      "d:\\Anaconda_navigator\\envs\\RP_env\\Lib\\site-packages\\xgboost\\core.py:726: FutureWarning: Pass `objective` as keyword args.\n",
      "  warnings.warn(msg, FutureWarning)\n",
      "d:\\Anaconda_navigator\\envs\\RP_env\\Lib\\site-packages\\xgboost\\core.py:726: FutureWarning: Pass `objective` as keyword args.\n",
      "  warnings.warn(msg, FutureWarning)\n",
      "d:\\Anaconda_navigator\\envs\\RP_env\\Lib\\site-packages\\xgboost\\core.py:726: FutureWarning: Pass `objective` as keyword args.\n",
      "  warnings.warn(msg, FutureWarning)\n",
      "d:\\Anaconda_navigator\\envs\\RP_env\\Lib\\site-packages\\xgboost\\core.py:726: FutureWarning: Pass `objective` as keyword args.\n",
      "  warnings.warn(msg, FutureWarning)\n",
      "d:\\Anaconda_navigator\\envs\\RP_env\\Lib\\site-packages\\xgboost\\core.py:726: FutureWarning: Pass `objective` as keyword args.\n",
      "  warnings.warn(msg, FutureWarning)\n",
      "d:\\Anaconda_navigator\\envs\\RP_env\\Lib\\site-packages\\xgboost\\core.py:726: FutureWarning: Pass `objective` as keyword args.\n",
      "  warnings.warn(msg, FutureWarning)\n",
      "d:\\Anaconda_navigator\\envs\\RP_env\\Lib\\site-packages\\xgboost\\core.py:726: FutureWarning: Pass `objective` as keyword args.\n",
      "  warnings.warn(msg, FutureWarning)\n",
      "d:\\Anaconda_navigator\\envs\\RP_env\\Lib\\site-packages\\xgboost\\core.py:726: FutureWarning: Pass `objective` as keyword args.\n",
      "  warnings.warn(msg, FutureWarning)\n",
      "d:\\Anaconda_navigator\\envs\\RP_env\\Lib\\site-packages\\xgboost\\core.py:726: FutureWarning: Pass `objective` as keyword args.\n",
      "  warnings.warn(msg, FutureWarning)\n",
      "d:\\Anaconda_navigator\\envs\\RP_env\\Lib\\site-packages\\xgboost\\core.py:726: FutureWarning: Pass `objective` as keyword args.\n",
      "  warnings.warn(msg, FutureWarning)\n",
      "d:\\Anaconda_navigator\\envs\\RP_env\\Lib\\site-packages\\xgboost\\core.py:726: FutureWarning: Pass `objective` as keyword args.\n",
      "  warnings.warn(msg, FutureWarning)\n",
      "d:\\Anaconda_navigator\\envs\\RP_env\\Lib\\site-packages\\xgboost\\core.py:726: FutureWarning: Pass `objective` as keyword args.\n",
      "  warnings.warn(msg, FutureWarning)\n",
      "d:\\Anaconda_navigator\\envs\\RP_env\\Lib\\site-packages\\xgboost\\core.py:726: FutureWarning: Pass `objective` as keyword args.\n",
      "  warnings.warn(msg, FutureWarning)\n",
      "d:\\Anaconda_navigator\\envs\\RP_env\\Lib\\site-packages\\xgboost\\core.py:726: FutureWarning: Pass `objective` as keyword args.\n",
      "  warnings.warn(msg, FutureWarning)\n",
      "d:\\Anaconda_navigator\\envs\\RP_env\\Lib\\site-packages\\xgboost\\core.py:726: FutureWarning: Pass `objective` as keyword args.\n",
      "  warnings.warn(msg, FutureWarning)\n",
      "d:\\Anaconda_navigator\\envs\\RP_env\\Lib\\site-packages\\xgboost\\core.py:726: FutureWarning: Pass `objective` as keyword args.\n",
      "  warnings.warn(msg, FutureWarning)\n",
      "d:\\Anaconda_navigator\\envs\\RP_env\\Lib\\site-packages\\xgboost\\core.py:726: FutureWarning: Pass `objective` as keyword args.\n",
      "  warnings.warn(msg, FutureWarning)\n",
      "d:\\Anaconda_navigator\\envs\\RP_env\\Lib\\site-packages\\xgboost\\core.py:726: FutureWarning: Pass `objective` as keyword args.\n",
      "  warnings.warn(msg, FutureWarning)\n"
     ]
    },
    {
     "name": "stdout",
     "output_type": "stream",
     "text": [
      "{'n_estimators': np.int64(10), 'learning_rate': np.float64(0.1)}\n",
      "the best_score we could achieve could explain only explain 33.333 percent of the variance, which as good as random guess\n",
      "[0.3333333333333333, 0.3333333333333333, 0.3333333333333333, 0.3333333333333333, 0.3333333333333333, 0.3333333333333333, 0.3333333333333333, 0.3333333333333333, 0.3333333333333333, 0.3333333333333333, 0.3333333333333333, 0.3333333333333333, 0.3333333333333333, 0.3333333333333333, 0.3333333333333333, 0.3333333333333333, 0.3333333333333333, 0.3333333333333333, 0.3333333333333333, 0.3333333333333333, 0.3333333333333333, 0.3333333333333333, 0.3333333333333333, 0.3333333333333333, 0.3333333333333333, 0.3333333333333333, 0.3333333333333333, 0.3333333333333333, 0.3333333333333333, 0.3333333333333333, 0.3333333333333333, 0.3333333333333333, 0.3333333333333333, 0.3333333333333333, 0.3333333333333333, 0.3333333333333333, 0.3333333333333333, 0.3333333333333333, 0.3333333333333333, 0.3333333333333333, 0.3333333333333333, 0.3333333333333333, 0.3333333333333333, 0.3333333333333333, 0.3333333333333333, 0.3333333333333333, 0.3333333333333333, 0.3333333333333333, 0.3333333333333333, 0.3333333333333333, 0.3333333333333333, 0.3333333333333333, 0.3333333333333333, 0.3333333333333333, 0.3333333333333333, 0.3333333333333333, 0.3333333333333333, 0.3333333333333333, 0.3333333333333333, 0.3333333333333333, 0.3333333333333333, 0.3333333333333333, 0.3333333333333333, 0.3333333333333333, 0.3333333333333333, 0.3333333333333333, 0.3333333333333333, 0.3333333333333333, 0.3333333333333333, 0.3333333333333333, 0.3333333333333333, 0.3333333333333333, 0.3333333333333333, 0.3333333333333333, 0.3333333333333333, 0.3333333333333333, 0.3333333333333333, 0.3333333333333333, 0.3333333333333333, 0.3333333333333333, 0.3333333333333333, 0.3333333333333333, 0.3333333333333333, 0.3333333333333333, 0.3333333333333333, 0.3333333333333333, 0.3333333333333333, 0.3333333333333333, 0.3333333333333333, 0.3333333333333333, 0.3333333333333333, 0.3333333333333333, 0.3333333333333333, 0.3333333333333333, 0.3333333333333333, 0.3333333333333333, 0.3333333333333333, 0.3333333333333333, 0.3333333333333333, 0.3333333333333333, 0.3333333333333333, 0.3333333333333333, 0.3333333333333333, 0.3333333333333333, 0.3333333333333333, 0.3333333333333333, 0.3333333333333333, 0.3333333333333333, 0.3333333333333333, 0.3333333333333333, 0.3333333333333333, 0.3333333333333333, 0.3333333333333333, 0.3333333333333333, 0.3333333333333333, 0.3333333333333333, 0.3333333333333333, 0.3333333333333333, 0.3333333333333333, 0.3333333333333333, 0.3333333333333333, 0.3333333333333333, 0.3333333333333333, 0.3333333333333333, 0.3333333333333333, 0.3333333333333333, 0.3333333333333333, 0.3333333333333333, 0.3333333333333333, 0.3333333333333333, 0.3333333333333333, 0.3333333333333333, 0.3333333333333333, 0.3333333333333333, 0.3333333333333333, 0.3333333333333333, 0.3333333333333333, 0.3333333333333333, 0.3333333333333333, 0.3333333333333333, 0.3333333333333333, 0.3333333333333333, 0.3333333333333333, 0.3333333333333333, 0.3333333333333333, 0.3333333333333333, 0.3333333333333333, 0.3333333333333333, 0.3333333333333333, 0.3333333333333333]\n"
     ]
    }
   ],
   "source": [
    "#Since the classifications were not impressively precise, we shall attempt the analysis with the same set of data through boosting method. \n",
    "# XGBOOST shall be applied for such purpose\n",
    "import numpy as np\n",
    "from xgboost import XGBClassifier \n",
    "from sklearn.metrics import accuracy_score\n",
    "\n",
    "param_grid = {\"estimators\": np.arange(10, 160, 10), \n",
    "              \"learning rate\": np.arange(0.1, 1.1, 0.1)}\n",
    "\n",
    "best_score = 0\n",
    "best_param = {}\n",
    "scores = []\n",
    "\n",
    "for trees in param_grid[\"estimators\"]:\n",
    "    for learners in param_grid[\"learning rate\"]:\n",
    "        current_params = {\"n_estimators\": trees, \n",
    "                          \"learning_rate\": learners}\n",
    "        xgb = XGBClassifier(current_params, random_state = 0)\n",
    "        xgb.fit(x_train_df, y_train_encoded_df)\n",
    "        score = xgb.score(x_eval_df, y_eval_encoded_df)\n",
    "        scores.append(score)\n",
    "\n",
    "        if score > best_score: #it keeps on iterating from zero until the highest value is found\n",
    "            best_score = score\n",
    "            best_param = current_params\n",
    "print(best_param)\n",
    "print(f\"the best_score we could achieve could explain only explain {round(best_score*100, 3)} percent of the variance, which as good as random guess\")\n",
    "print(scores) #the scores shall be printed based every given estimator and learning rate parameter, and suprisingly they are all 0.5"
   ]
  },
  {
   "cell_type": "markdown",
   "id": "64bb613c",
   "metadata": {},
   "source": [
    "Given that we were not able to gather very good accuracy with the boosting algorithm, It appears we are sticking the Random Forest Classifier for our analysis"
   ]
  }
 ],
 "metadata": {
  "kernelspec": {
   "display_name": "RP_env",
   "language": "python",
   "name": "python3"
  },
  "language_info": {
   "codemirror_mode": {
    "name": "ipython",
    "version": 3
   },
   "file_extension": ".py",
   "mimetype": "text/x-python",
   "name": "python",
   "nbconvert_exporter": "python",
   "pygments_lexer": "ipython3",
   "version": "3.12.9"
  }
 },
 "nbformat": 4,
 "nbformat_minor": 5
}
